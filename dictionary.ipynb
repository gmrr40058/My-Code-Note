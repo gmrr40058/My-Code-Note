{
 "cells": [
  {
   "cell_type": "code",
   "execution_count": 3,
   "id": "77d5febf",
   "metadata": {},
   "outputs": [
    {
     "name": "stdout",
     "output_type": "stream",
     "text": [
      "{'brand': 'Ford', 'model': 'Mustang', 'year': 2020}\n",
      "3\n"
     ]
    }
   ],
   "source": [
    "thisdict = {\n",
    "  \"brand\": \"Ford\",\n",
    "  \"model\": \"Mustang\",\n",
    "  \"year\": 1964,\n",
    "  \"year\": 2020\n",
    "}\n",
    "print(thisdict)\n"
   ]
  },
  {
   "cell_type": "code",
   "execution_count": 4,
   "id": "fb43226a",
   "metadata": {},
   "outputs": [
    {
     "name": "stdout",
     "output_type": "stream",
     "text": [
      "3\n"
     ]
    }
   ],
   "source": [
    "print(len(thisdict))"
   ]
  },
  {
   "cell_type": "code",
   "execution_count": 6,
   "id": "bdb31281",
   "metadata": {},
   "outputs": [
    {
     "name": "stdout",
     "output_type": "stream",
     "text": [
      "[<class 'str'>, <class 'str'>, <class 'str'>, <class 'str'>]\n"
     ]
    }
   ],
   "source": [
    "thisdict = {\n",
    "  \"brand\": \"Ford\",\n",
    "  \"electric\": False,\n",
    "  \"year\": 1964,\n",
    "  \"colors\": [\"red\", \"white\", \"blue\"]\n",
    "}\n",
    "print(list(type(i) for i in thisdict))"
   ]
  },
  {
   "cell_type": "code",
   "execution_count": 5,
   "id": "aa69e17d",
   "metadata": {},
   "outputs": [
    {
     "name": "stdout",
     "output_type": "stream",
     "text": [
      "[<class 'str'>, <class 'int'>, <class 'bool'>, <class 'float'>]\n"
     ]
    }
   ],
   "source": [
    "mytuple = (\"apple\", 3, True, 4.5)\n",
    "print(list(type(i) for i in mytuple))"
   ]
  },
  {
   "cell_type": "code",
   "execution_count": 7,
   "id": "f4cc2161",
   "metadata": {},
   "outputs": [
    {
     "name": "stdout",
     "output_type": "stream",
     "text": [
      "[<class 'bool'>, <class 'int'>, <class 'float'>, <class 'str'>]\n"
     ]
    }
   ],
   "source": [
    "myset = {\"apple\", 3, True, 4.5}\n",
    "print(list(type(i) for i in myset))\n"
   ]
  },
  {
   "cell_type": "code",
   "execution_count": 1,
   "id": "0e965937",
   "metadata": {},
   "outputs": [
    {
     "name": "stdout",
     "output_type": "stream",
     "text": [
      "[<class 'int'>, <class 'str'>, <class 'float'>, <class 'tuple'>]\n"
     ]
    }
   ],
   "source": [
    "my_dict = {\n",
    "    1: \"integer\",\n",
    "    'two': \"string\",\n",
    "    3.0: \"float\",\n",
    "    (4, 5): \"tuple\",\n",
    "    True: \"boolean\"\n",
    "}\n",
    "print(list(type(i) for i in my_dict))"
   ]
  },
  {
   "cell_type": "code",
   "execution_count": 5,
   "id": "38fbf330",
   "metadata": {},
   "outputs": [
    {
     "name": "stdout",
     "output_type": "stream",
     "text": [
      "tuple\n",
      "dict_keys([1, 'two', 3.0, (4, 5)])\n"
     ]
    }
   ],
   "source": [
    "print(my_dict[(4,5)])  # Accessing value by key\n",
    "print(my_dict.keys())"
   ]
  },
  {
   "cell_type": "code",
   "execution_count": 4,
   "id": "8c2f1e3d",
   "metadata": {},
   "outputs": [
    {
     "name": "stdout",
     "output_type": "stream",
     "text": [
      "dict_keys(['brand', 'model', 'year'])\n",
      "dict_keys(['brand', 'model', 'year', 'color'])\n"
     ]
    }
   ],
   "source": [
    "car = {\n",
    "\"brand\": \"Ford\",\n",
    "\"model\": \"Mustang\",\n",
    "\"year\": 1964\n",
    "}\n",
    "\n",
    "x = car.keys()\n",
    "\n",
    "print(x) #before the change\n",
    "\n",
    "car[\"color\"] = \"white\"\n",
    "\n",
    "print(x) #after the change"
   ]
  },
  {
   "cell_type": "code",
   "execution_count": 9,
   "id": "b6b03c27",
   "metadata": {},
   "outputs": [
    {
     "name": "stdout",
     "output_type": "stream",
     "text": [
      "['boolean', 'string', 'float', 'tuple']\n"
     ]
    }
   ],
   "source": [
    "my_dict = {\n",
    "    1: \"integer\",\n",
    "    'two': \"string\",\n",
    "    3.0: \"float\",\n",
    "    (4, 5): \"tuple\",\n",
    "    True: \"boolean\"\n",
    "}\n",
    "print(list(my_dict[i] for i in my_dict))"
   ]
  },
  {
   "cell_type": "code",
   "execution_count": 8,
   "id": "c008edb1",
   "metadata": {},
   "outputs": [
    {
     "name": "stdout",
     "output_type": "stream",
     "text": [
      "boolean string float tuple\n"
     ]
    }
   ],
   "source": [
    "my_dict = {\n",
    "    1: \"integer\",\n",
    "    'two': \"string\",\n",
    "    3.0: \"float\",\n",
    "    (4, 5): \"tuple\",\n",
    "    True: \"boolean\"\n",
    "}\n",
    "print(*(my_dict[i] for i in my_dict))"
   ]
  },
  {
   "cell_type": "code",
   "execution_count": 1,
   "id": "b0937b89",
   "metadata": {},
   "outputs": [
    {
     "name": "stdout",
     "output_type": "stream",
     "text": [
      "lettuce\n"
     ]
    }
   ],
   "source": [
    "burger = {\n",
    "    \"name\": \"Cheeseburger\",\n",
    "    \"price\": 5.99,\n",
    "    \"ingredients\": [\"beef patty\", \"cheese\", \"lettuce\", \"tomato\", \"onion\"],\n",
    "    \"is_vegetarian\": False\n",
    "}\n",
    "print(burger[\"ingredients\"][2])  # Accessing the third ingredient"
   ]
  },
  {
   "cell_type": "code",
   "execution_count": 9,
   "id": "b5d55ea1",
   "metadata": {},
   "outputs": [
    {
     "name": "stdout",
     "output_type": "stream",
     "text": [
      "['beef patty', 'cheese', 'lettuce', 'tomato', 'onion']\n"
     ]
    }
   ],
   "source": [
    "print(burger.get(\"ingredients\"))  # Accessing the name using get method"
   ]
  },
  {
   "cell_type": "code",
   "execution_count": 10,
   "id": "cd74d71d",
   "metadata": {},
   "outputs": [
    {
     "name": "stdout",
     "output_type": "stream",
     "text": [
      "dict_keys(['name', 'price', 'ingredients', 'is_vegetarian'])\n"
     ]
    }
   ],
   "source": [
    "print(burger.keys())  # Accessing the name using get methodients"
   ]
  },
  {
   "cell_type": "code",
   "execution_count": 11,
   "id": "bc7a3fba",
   "metadata": {},
   "outputs": [
    {
     "name": "stdout",
     "output_type": "stream",
     "text": [
      "dict_values(['Cheeseburger', 5.99, ['beef patty', 'cheese', 'lettuce', 'tomato', 'onion'], False])\n"
     ]
    }
   ],
   "source": [
    "print(burger.values())  # Accessing the name using get methodients"
   ]
  },
  {
   "cell_type": "code",
   "execution_count": null,
   "id": "24d07c3c",
   "metadata": {},
   "outputs": [],
   "source": []
  },
  {
   "cell_type": "code",
   "execution_count": 7,
   "id": "f81f7c5a",
   "metadata": {},
   "outputs": [
    {
     "name": "stdout",
     "output_type": "stream",
     "text": [
      "15000\n"
     ]
    }
   ],
   "source": [
    "car = {\n",
    "  \"brand\": \"Ford\",\n",
    "  \"model\": \"Mustang\",\n",
    "  \"year\": 1964\n",
    "}\n",
    "\n",
    "x = car.get(\"price\", 15000)\n",
    "\n",
    "print(x)"
   ]
  },
  {
   "cell_type": "code",
   "execution_count": 4,
   "id": "220fde32",
   "metadata": {},
   "outputs": [
    {
     "name": "stdout",
     "output_type": "stream",
     "text": [
      "{'brand': 'Ford', 'model': 'Mustang', 'year': 1964}\n"
     ]
    }
   ],
   "source": [
    "print(car)"
   ]
  },
  {
   "cell_type": "code",
   "execution_count": 12,
   "id": "1a8448a7",
   "metadata": {},
   "outputs": [
    {
     "name": "stdout",
     "output_type": "stream",
     "text": [
      "dict_values(['Ford', 'Mustang', 1964])\n",
      "dict_values(['Ford', 'Mustang', 2020])\n"
     ]
    }
   ],
   "source": [
    "car = {\n",
    "\"brand\": \"Ford\",\n",
    "\"model\": \"Mustang\",\n",
    "\"year\": 1964\n",
    "}\n",
    "\n",
    "x = car.values()\n",
    "\n",
    "print(x) #before the change\n",
    "\n",
    "car[\"year\"] = 2020\n",
    "\n",
    "print(x) #after the change"
   ]
  },
  {
   "cell_type": "code",
   "execution_count": 13,
   "id": "7b9fb2ab",
   "metadata": {},
   "outputs": [
    {
     "name": "stdout",
     "output_type": "stream",
     "text": [
      "dict_values(['Ford', 'Mustang', 1964])\n",
      "dict_values(['Ford', 'Mustang', 1964, 'red'])\n"
     ]
    }
   ],
   "source": [
    "car = {\n",
    "\"brand\": \"Ford\",\n",
    "\"model\": \"Mustang\",\n",
    "\"year\": 1964\n",
    "}\n",
    "\n",
    "x = car.values()\n",
    "\n",
    "print(x) #before the change\n",
    "\n",
    "car[\"color\"] = \"red\"\n",
    "\n",
    "print(x) #after the change"
   ]
  },
  {
   "cell_type": "code",
   "execution_count": 15,
   "id": "b3497b82",
   "metadata": {},
   "outputs": [
    {
     "name": "stdout",
     "output_type": "stream",
     "text": [
      "dict_items([('brand', 'Ford'), ('model', 'Mustang'), ('year', 1964), ('color', 'red')])\n"
     ]
    }
   ],
   "source": [
    "print(car.items())"
   ]
  },
  {
   "cell_type": "code",
   "execution_count": 16,
   "id": "40c90ffc",
   "metadata": {},
   "outputs": [
    {
     "name": "stdout",
     "output_type": "stream",
     "text": [
      "{}\n"
     ]
    }
   ],
   "source": [
    "thisdict = {\n",
    "  \"brand\": \"Ford\",\n",
    "  \"model\": \"Mustang\",\n",
    "  \"year\": 1964\n",
    "}\n",
    "thisdict.clear()\n",
    "print(thisdict)"
   ]
  },
  {
   "cell_type": "code",
   "execution_count": 21,
   "id": "2e7b2b77",
   "metadata": {},
   "outputs": [
    {
     "name": "stdout",
     "output_type": "stream",
     "text": [
      "child1\n",
      "name : Emil\n",
      "year : 2004\n",
      "child2\n",
      "name : Tobias\n",
      "year : 2007\n",
      "child3\n",
      "name : Linus\n",
      "year : 2011\n"
     ]
    }
   ],
   "source": [
    "child1 = {\n",
    "  \"name\" : \"Emil\",\n",
    "  \"year\" : 2004\n",
    "}\n",
    "child2 = {\n",
    "  \"name\" : \"Tobias\",\n",
    "  \"year\" : 2007\n",
    "}\n",
    "child3 = {\n",
    "  \"name\" : \"Linus\",\n",
    "  \"year\" : 2011\n",
    "}\n",
    "\n",
    "myfamily = {\n",
    "  \"child1\" : child1,\n",
    "  \"child2\" : child2,\n",
    "  \"child3\" : child3\n",
    "}\n",
    "\n",
    "# print(myfamily.items())\n",
    "for child, info in myfamily.items():\n",
    "    print(child)\n",
    "    \n",
    "    for key in info:\n",
    "        print(key, \":\", info[key])"
   ]
  },
  {
   "cell_type": "code",
   "execution_count": 25,
   "id": "08574ba6",
   "metadata": {},
   "outputs": [
    {
     "name": "stdout",
     "output_type": "stream",
     "text": [
      "0o5314\n",
      "0xacc\n"
     ]
    }
   ],
   "source": [
    "x = int(input(\"Enter a number: \"))\n",
    "\n",
    "print(oct(x))  # This will raise an error because 'x' is not a valid iterab\n",
    "print(hex(x))"
   ]
  },
  {
   "cell_type": "code",
   "execution_count": null,
   "id": "98737395",
   "metadata": {},
   "outputs": [],
   "source": []
  }
 ],
 "metadata": {
  "kernelspec": {
   "display_name": "base",
   "language": "python",
   "name": "python3"
  },
  "language_info": {
   "codemirror_mode": {
    "name": "ipython",
    "version": 3
   },
   "file_extension": ".py",
   "mimetype": "text/x-python",
   "name": "python",
   "nbconvert_exporter": "python",
   "pygments_lexer": "ipython3",
   "version": "3.13.5"
  }
 },
 "nbformat": 4,
 "nbformat_minor": 5
}
