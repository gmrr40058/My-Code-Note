{
 "cells": [
  {
   "cell_type": "code",
   "execution_count": null,
   "id": "eb8dce22",
   "metadata": {},
   "outputs": [
    {
     "name": "stdout",
     "output_type": "stream",
     "text": [
      "John\n",
      "John\n"
     ]
    }
   ],
   "source": [
    "class Public:\n",
    "    def __init__(self):\n",
    "        self.name = \"John\"  # Public attribute\n",
    "\n",
    "    def display_name(self):\n",
    "        print(self.name)  # Public method\n",
    "\n",
    "obj = Public()\n",
    "obj.display_name()  # Accessible\n",
    "print(obj.name)  # Accessible"
   ]
  },
  {
   "cell_type": "code",
   "execution_count": null,
   "id": "9797cc14",
   "metadata": {},
   "outputs": [],
   "source": [
    "class Public:\n",
    "    def __init__(self):\n",
    "        self.name = \"John\"  # Public attribute\n",
    "\n",
    "    def display_name(self):\n",
    "        print(self.name)  # Public method\n",
    "\n",
    "class Subclass(Public):\n",
    "    def display_age(self):\n",
    "        print(self.name)  # Accessible in subclass\n",
    "\n",
    "obj = Subclass()\n",
    "obj.display_name()  # Accessible\n",
    "print(obj.name)  # Accessible"
   ]
  },
  {
   "cell_type": "code",
   "execution_count": 1,
   "id": "a2e4d555",
   "metadata": {},
   "outputs": [
    {
     "name": "stdout",
     "output_type": "stream",
     "text": [
      "30\n"
     ]
    }
   ],
   "source": [
    "class Protected:\n",
    "    def __init__(self):\n",
    "        self._age = 30  # Protected attribute\n",
    "\n",
    "class Subclass(Protected):\n",
    "    def display_age(self):\n",
    "        print(self._age)  # Accessible in subclass\n",
    "\n",
    "obj = Subclass()\n",
    "obj.display_age()"
   ]
  },
  {
   "cell_type": "code",
   "execution_count": 8,
   "id": "8964bfe2",
   "metadata": {},
   "outputs": [
    {
     "name": "stdout",
     "output_type": "stream",
     "text": [
      "30\n"
     ]
    }
   ],
   "source": [
    "class Protected:\n",
    "    def __init__(self):\n",
    "        self._age = 30  # Protected attribute\n",
    "\n",
    "class Subclass(Protected):\n",
    "    def display_age(self):\n",
    "        print(self._age)  # Accessible in subclass\n",
    "\n",
    "obj = Subclass()\n",
    "obj.display_age()"
   ]
  },
  {
   "cell_type": "code",
   "execution_count": 9,
   "id": "56d28932",
   "metadata": {},
   "outputs": [
    {
     "name": "stdout",
     "output_type": "stream",
     "text": [
      "30\n",
      "30\n"
     ]
    }
   ],
   "source": [
    "class Protected:\n",
    "    def __init__(self):\n",
    "        self._age = 30  # Protected attribute\n",
    "\n",
    "class Subclass(Protected):\n",
    "    def display_age(self):\n",
    "        print(self._age)  # Accessible in subclass\n",
    "\n",
    "obj = Subclass()\n",
    "obj.display_age()\n",
    "print(obj._age)"
   ]
  },
  {
   "cell_type": "code",
   "execution_count": null,
   "id": "dcebd378",
   "metadata": {},
   "outputs": [],
   "source": [
    "class BankAccount:\n",
    "    def __init__(self, account_holder, balance):\n",
    "        self.account_holder = account_holder   # public attribute\n",
    "        self._account_type = \"Savings\"         # protected attribute\n",
    "        self.__balance = balance               # private attribute\n",
    "\n",
    "    # Public method to deposit money\n",
    "    def deposit(self, amount):\n",
    "        if amount > 0:\n",
    "            self.__balance += amount\n",
    "            print(f\"Deposited {amount}\")\n",
    "        else:\n",
    "            print(\"Invalid amount\")\n",
    "\n",
    "    # Public method to withdraw money\n",
    "    def withdraw(self, amount):\n",
    "        if 0 < amount <= self.__balance:\n",
    "            self.__balance -= amount\n",
    "            print(f\"Withdrew {amount}\")\n",
    "        else:\n",
    "            print(\"Insufficient funds or invalid amount\")\n",
    "\n",
    "    # Public method to check balance (controlled access)\n",
    "    def get_balance(self):\n",
    "        return self.__balance\n",
    "\n",
    "account = BankAccount(\"Reza\", 1000)\n",
    "\n",
    "# Accessing public attribute\n",
    "print(account.account_holder)    # ✅ Allowed\n",
    "\n",
    "# Accessing protected attribute\n",
    "print(account._account_type)     # ⚠️ Allowed but discouraged\n",
    "\n",
    "# Accessing private attribute directly\n",
    "# print(account.__balance)       # ❌ AttributeError\n",
    "\n",
    "# Correct way to access private attribute\n",
    "print(account.get_balance())     # ✅ 1000\n",
    "\n",
    "account.deposit(500)             # ✅ Deposited 500\n",
    "account.withdraw(200)            # ✅ Withdrew 200\n"
   ]
  },
  {
   "cell_type": "code",
   "execution_count": null,
   "id": "fc2a23fe",
   "metadata": {},
   "outputs": [],
   "source": []
  }
 ],
 "metadata": {
  "kernelspec": {
   "display_name": "Python 3",
   "language": "python",
   "name": "python3"
  },
  "language_info": {
   "codemirror_mode": {
    "name": "ipython",
    "version": 3
   },
   "file_extension": ".py",
   "mimetype": "text/x-python",
   "name": "python",
   "nbconvert_exporter": "python",
   "pygments_lexer": "ipython3",
   "version": "3.13.3"
  }
 },
 "nbformat": 4,
 "nbformat_minor": 5
}
