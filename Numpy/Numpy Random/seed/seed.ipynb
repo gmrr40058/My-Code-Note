{
 "cells": [
  {
   "cell_type": "code",
   "execution_count": 2,
   "id": "9553d576",
   "metadata": {},
   "outputs": [],
   "source": [
    "import numpy as np"
   ]
  },
  {
   "cell_type": "code",
   "execution_count": 4,
   "id": "464186c7",
   "metadata": {},
   "outputs": [
    {
     "name": "stdout",
     "output_type": "stream",
     "text": [
      "0.771320643266746\n"
     ]
    }
   ],
   "source": [
    "np.random.seed(10)\n",
    "print(np.random.random())"
   ]
  },
  {
   "cell_type": "code",
   "execution_count": 28,
   "id": "a1529360",
   "metadata": {},
   "outputs": [
    {
     "name": "stdout",
     "output_type": "stream",
     "text": [
      "[7 9 8 5 2]\n"
     ]
    }
   ],
   "source": [
    "print(np.random.randint(1, 10, 5))"
   ]
  },
  {
   "cell_type": "code",
   "execution_count": 38,
   "id": "ef9f8a4d",
   "metadata": {},
   "outputs": [
    {
     "name": "stdout",
     "output_type": "stream",
     "text": [
      "[5 1 2 1 2]\n"
     ]
    }
   ],
   "source": [
    "np.random.seed(10)   # Fix the randomness\n",
    "\n",
    "print(np.random.randint(1, 10, 5))"
   ]
  },
  {
   "cell_type": "code",
   "execution_count": 42,
   "id": "98e83811",
   "metadata": {},
   "outputs": [
    {
     "name": "stdout",
     "output_type": "stream",
     "text": [
      "[5 1 2 1 2]\n",
      "[7 4 8 5 7]\n",
      "[1 2 8 2 8]\n",
      "[5 1 2 1 2]\n"
     ]
    }
   ],
   "source": [
    "np.random.seed(10)\n",
    "print(np.random.randint(1, 10, 5))\n",
    "\n",
    "np.random.seed(42)\n",
    "print(np.random.randint(1, 10, 5))\n",
    "\n",
    "np.random.seed(11)\n",
    "print(np.random.randint(1, 10, 5))\n",
    "\n",
    "np.random.seed(10)\n",
    "print(np.random.randint(1, 10, 5))"
   ]
  },
  {
   "cell_type": "code",
   "execution_count": 47,
   "id": "6d493af6",
   "metadata": {},
   "outputs": [
    {
     "name": "stdout",
     "output_type": "stream",
     "text": [
      "[5 1 2 1 2]\n",
      "[9 1 9 7 5]\n",
      "\n",
      "\n",
      "[7 4 8 5 7]\n",
      "[3 7 8 5 4]\n",
      "\n",
      "\n",
      "[1 2 8 2 8]\n",
      "[3 9 1 1 5]\n",
      "\n",
      "\n",
      "[5 1 2 1 2]\n",
      "[9 1 9 7 5]\n"
     ]
    }
   ],
   "source": [
    "np.random.seed(10)\n",
    "print(np.random.randint(1, 10, 5))\n",
    "print(np.random.randint(1, 10, 5))\n",
    "print('\\n')\n",
    "\n",
    "np.random.seed(42)\n",
    "print(np.random.randint(1, 10, 5))\n",
    "print(np.random.randint(1, 10, 5))\n",
    "print('\\n')\n",
    "\n",
    "np.random.seed(11)\n",
    "print(np.random.randint(1, 10, 5))\n",
    "print(np.random.randint(1, 10, 5))\n",
    "print('\\n')\n",
    "\n",
    "np.random.seed(10)\n",
    "print(np.random.randint(1, 10, 5))\n",
    "print(np.random.randint(1, 10, 5))"
   ]
  }
 ],
 "metadata": {
  "kernelspec": {
   "display_name": "base",
   "language": "python",
   "name": "python3"
  },
  "language_info": {
   "codemirror_mode": {
    "name": "ipython",
    "version": 3
   },
   "file_extension": ".py",
   "mimetype": "text/x-python",
   "name": "python",
   "nbconvert_exporter": "python",
   "pygments_lexer": "ipython3",
   "version": "3.13.5"
  }
 },
 "nbformat": 4,
 "nbformat_minor": 5
}
