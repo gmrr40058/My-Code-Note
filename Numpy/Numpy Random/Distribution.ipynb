{
 "cells": [
  {
   "cell_type": "code",
   "execution_count": 1,
   "id": "cc1d1347",
   "metadata": {},
   "outputs": [],
   "source": [
    "from numpy import random"
   ]
  },
  {
   "cell_type": "code",
   "execution_count": 2,
   "id": "ee4bce23",
   "metadata": {},
   "outputs": [
    {
     "name": "stdout",
     "output_type": "stream",
     "text": [
      "9\n"
     ]
    }
   ],
   "source": [
    "x = random.choice([3, 5, 7, 9])\n",
    "\n",
    "print(x)"
   ]
  },
  {
   "cell_type": "code",
   "execution_count": 3,
   "id": "675f022c",
   "metadata": {},
   "outputs": [
    {
     "name": "stdout",
     "output_type": "stream",
     "text": [
      "[[3 3 5 7 5]\n",
      " [3 9 3 9 5]\n",
      " [7 5 5 3 9]]\n"
     ]
    }
   ],
   "source": [
    "x = random.choice([3, 5, 7, 9], size=(3, 5))\n",
    "\n",
    "print(x)"
   ]
  },
  {
   "cell_type": "code",
   "execution_count": 4,
   "id": "7eed7f34",
   "metadata": {},
   "outputs": [
    {
     "name": "stdout",
     "output_type": "stream",
     "text": [
      "[7 5 5 7 7 7 7 3 7 7 7 5 5 5 7 3 7 7 3 5 7 5 7 5 7 5 5 7 5 5 3 7 7 7 7 7 7\n",
      " 3 3 7 3 5 5 7 7 7 7 7 7 5 5 7 7 7 5 5 5 5 7 7 5 5 7 3 7 5 7 7 5 5 7 7 3 7\n",
      " 7 7 5 5 7 7 7 7 7 7 7 7 7 5 7 7 7 7 7 5 7 5 7 3 3 7]\n"
     ]
    }
   ],
   "source": [
    "x = random.choice([3, 5, 7, 9], p=[0.1, 0.3, 0.6, 0.0], size=(100))\n",
    "\n",
    "print(x)"
   ]
  },
  {
   "cell_type": "code",
   "execution_count": 5,
   "id": "eeb8eea7",
   "metadata": {},
   "outputs": [
    {
     "name": "stdout",
     "output_type": "stream",
     "text": [
      "[[7 5 7 7 3]\n",
      " [7 3 5 7 7]\n",
      " [5 7 7 5 5]]\n"
     ]
    }
   ],
   "source": [
    "x = random.choice([3, 5, 7, 9], p=[0.1, 0.3, 0.6, 0.0], size=(3, 5))\n",
    "\n",
    "print(x)"
   ]
  }
 ],
 "metadata": {
  "kernelspec": {
   "display_name": "base",
   "language": "python",
   "name": "python3"
  },
  "language_info": {
   "codemirror_mode": {
    "name": "ipython",
    "version": 3
   },
   "file_extension": ".py",
   "mimetype": "text/x-python",
   "name": "python",
   "nbconvert_exporter": "python",
   "pygments_lexer": "ipython3",
   "version": "3.13.5"
  }
 },
 "nbformat": 4,
 "nbformat_minor": 5
}
