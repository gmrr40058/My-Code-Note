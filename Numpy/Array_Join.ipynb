{
 "cells": [
  {
   "cell_type": "markdown",
   "id": "a2f37084",
   "metadata": {},
   "source": [
    "#### What is an Axis in NumPy?\n",
    "Think of a NumPy array like a grid of numbers.\n",
    "* Axis = direction in which you move inside the array.\n",
    "* Axis 0: moves down the rows (vertical).\n",
    "* Axis 1: moves across the columns (horizontal).\n",
    "* Axis 2: moves into/out of the depth (only in 3D arrays)."
   ]
  },
  {
   "cell_type": "markdown",
   "id": "04e2f38e",
   "metadata": {},
   "source": [
    "#### Detailed list showing how concatenate and stack behave with 1D, 2D, and 3D arrays, including input shapes, output shapes, and explanations:\n",
    "**Notes:**\n",
    "* concatenate requires the shapes to match in all axes except the concatenation axis.\n",
    "* stack requires the shapes to be exactly the same and adds a new axis at the specified position.\n",
    "* The axis number refers to the position in the output array."
   ]
  },
  {
   "cell_type": "markdown",
   "id": "b3c8989c",
   "metadata": {},
   "source": [
    "##### For 1D arrays concatenate (shape like (N,)):\n",
    "| Function        | Input shapes   | Output shape | Explanation                    |\n",
    "| --------------- | -------------- | ------------ | ------------------------------ |\n",
    "| `concatenate`   | `(3,)`, `(3,)` | `(6,)`       | Joins arrays end-to-end        |\n",
    "\n",
    "* Concate do not creat new axis\n"
   ]
  },
  {
   "cell_type": "code",
   "execution_count": 2,
   "id": "2c01eafe",
   "metadata": {},
   "outputs": [],
   "source": [
    "import numpy as np"
   ]
  },
  {
   "cell_type": "code",
   "execution_count": 3,
   "id": "cd0f7c7a",
   "metadata": {},
   "outputs": [],
   "source": [
    "a = np.array([1, 2])\n",
    "b = np.array([3,4])"
   ]
  },
  {
   "cell_type": "code",
   "execution_count": 4,
   "id": "b93bf42d",
   "metadata": {},
   "outputs": [
    {
     "data": {
      "text/plain": [
       "array([1, 2, 3, 4])"
      ]
     },
     "execution_count": 4,
     "metadata": {},
     "output_type": "execute_result"
    }
   ],
   "source": [
    "#concatenate axis = 0\n",
    "arr= np.concatenate((a,b))  # Deault axis = 0\n",
    "arr"
   ]
  },
  {
   "cell_type": "code",
   "execution_count": 5,
   "id": "7657750a",
   "metadata": {},
   "outputs": [
    {
     "data": {
      "text/plain": [
       "array([1, 2, 3, 4])"
      ]
     },
     "execution_count": 5,
     "metadata": {},
     "output_type": "execute_result"
    }
   ],
   "source": [
    "arr= np.hstack((a,b))  # Deault axis = 0\n",
    "arr"
   ]
  },
  {
   "cell_type": "code",
   "execution_count": 6,
   "id": "adcd2f0a",
   "metadata": {},
   "outputs": [
    {
     "data": {
      "text/plain": [
       "array([[1, 2],\n",
       "       [3, 4]])"
      ]
     },
     "execution_count": 6,
     "metadata": {},
     "output_type": "execute_result"
    }
   ],
   "source": [
    "# Stacking arrays axis = 0\n",
    "arr= np.stack((a,b))  # Default axis = 0\n",
    "arr"
   ]
  },
  {
   "cell_type": "code",
   "execution_count": 7,
   "id": "8b940a38",
   "metadata": {},
   "outputs": [
    {
     "data": {
      "text/plain": [
       "array([[1, 2],\n",
       "       [3, 4]])"
      ]
     },
     "execution_count": 7,
     "metadata": {},
     "output_type": "execute_result"
    }
   ],
   "source": [
    "arr= np.vstack((a,b))  # Deault axis = 0\n",
    "arr"
   ]
  },
  {
   "cell_type": "code",
   "execution_count": 8,
   "id": "81c9f7ce",
   "metadata": {},
   "outputs": [
    {
     "ename": "TypeError",
     "evalue": "vstack() got an unexpected keyword argument 'axis'",
     "output_type": "error",
     "traceback": [
      "\u001b[1;31m---------------------------------------------------------------------------\u001b[0m",
      "\u001b[1;31mTypeError\u001b[0m                                 Traceback (most recent call last)",
      "Cell \u001b[1;32mIn[8], line 2\u001b[0m\n\u001b[0;32m      1\u001b[0m \u001b[38;5;66;03m# Stacking arrays axis = 1\u001b[39;00m\n\u001b[1;32m----> 2\u001b[0m arr\u001b[38;5;241m=\u001b[39m np\u001b[38;5;241m.\u001b[39mvstack((a,b), axis\u001b[38;5;241m=\u001b[39m\u001b[38;5;241m1\u001b[39m)\n\u001b[0;32m      3\u001b[0m arr\n",
      "\u001b[1;31mTypeError\u001b[0m: vstack() got an unexpected keyword argument 'axis'"
     ]
    }
   ],
   "source": [
    "# Stacking arrays axis = 1\n",
    "arr= np.vstack((a,b), axis=1)\n",
    "arr"
   ]
  },
  {
   "cell_type": "code",
   "execution_count": 9,
   "id": "5fbec4f2",
   "metadata": {},
   "outputs": [
    {
     "data": {
      "text/plain": [
       "array([[[1, 3],\n",
       "        [2, 4]]])"
      ]
     },
     "execution_count": 9,
     "metadata": {},
     "output_type": "execute_result"
    }
   ],
   "source": [
    "# Stacking arrays axis = 1\n",
    "arr= np.dstack((a,b))\n",
    "arr"
   ]
  },
  {
   "cell_type": "code",
   "execution_count": null,
   "id": "c34c96c6",
   "metadata": {},
   "outputs": [],
   "source": [
    "# Defining 2 1D arrays Shape(3)\n",
    "a = np.array([1, 2, 3])\n",
    "b = np.array([4, 5, 6])"
   ]
  },
  {
   "cell_type": "code",
   "execution_count": null,
   "id": "967eef47",
   "metadata": {},
   "outputs": [
    {
     "data": {
      "text/plain": [
       "array([1, 2, 3, 4, 5, 6])"
      ]
     },
     "execution_count": 33,
     "metadata": {},
     "output_type": "execute_result"
    }
   ],
   "source": [
    "arr= np.concatenate((a,b))  # Default axis = 0\n",
    "arr"
   ]
  },
  {
   "cell_type": "code",
   "execution_count": null,
   "id": "1f661831",
   "metadata": {},
   "outputs": [
    {
     "ename": "AxisError",
     "evalue": "axis 1 is out of bounds for array of dimension 1",
     "output_type": "error",
     "traceback": [
      "\u001b[31m---------------------------------------------------------------------------\u001b[39m",
      "\u001b[31mAxisError\u001b[39m                                 Traceback (most recent call last)",
      "\u001b[36mCell\u001b[39m\u001b[36m \u001b[39m\u001b[32mIn[5]\u001b[39m\u001b[32m, line 5\u001b[39m\n\u001b[32m      2\u001b[39m a = np.array([\u001b[32m1\u001b[39m, \u001b[32m2\u001b[39m, \u001b[32m3\u001b[39m])\n\u001b[32m      3\u001b[39m b = np.array([\u001b[32m4\u001b[39m, \u001b[32m5\u001b[39m, \u001b[32m6\u001b[39m])\n\u001b[32m----> \u001b[39m\u001b[32m5\u001b[39m arr= \u001b[43mnp\u001b[49m\u001b[43m.\u001b[49m\u001b[43mconcatenate\u001b[49m\u001b[43m(\u001b[49m\u001b[43m(\u001b[49m\u001b[43ma\u001b[49m\u001b[43m,\u001b[49m\u001b[43mb\u001b[49m\u001b[43m)\u001b[49m\u001b[43m,\u001b[49m\u001b[43m \u001b[49m\u001b[43maxis\u001b[49m\u001b[43m \u001b[49m\u001b[43m=\u001b[49m\u001b[43m \u001b[49m\u001b[32;43m1\u001b[39;49m\u001b[43m)\u001b[49m\n\u001b[32m      6\u001b[39m arr\n",
      "\u001b[31mAxisError\u001b[39m: axis 1 is out of bounds for array of dimension 1"
     ]
    }
   ],
   "source": [
    "#concatenate\n",
    "a = np.array([1, 2, 3])\n",
    "b = np.array([4, 5, 6])\n",
    "\n",
    "arr= np.concatenate((a,b), axis = 1)\n",
    "arr"
   ]
  },
  {
   "cell_type": "code",
   "execution_count": null,
   "id": "184bc9e2",
   "metadata": {},
   "outputs": [
    {
     "data": {
      "text/plain": [
       "array([[1, 3],\n",
       "       [2, 4]])"
      ]
     },
     "execution_count": 27,
     "metadata": {},
     "output_type": "execute_result"
    }
   ],
   "source": [
    "#concatenate\n",
    "a = np.array([1, 2])\n",
    "b = np.array([3,4])\n",
    "\n",
    "arr= np.stack((a,b), axis=1)\n",
    "arr"
   ]
  },
  {
   "cell_type": "code",
   "execution_count": null,
   "id": "8e3eff09",
   "metadata": {},
   "outputs": [
    {
     "data": {
      "text/plain": [
       "array([[1, 2],\n",
       "       [3, 4]])"
      ]
     },
     "execution_count": 25,
     "metadata": {},
     "output_type": "execute_result"
    }
   ],
   "source": [
    "#concatenate\n",
    "a = np.array([1, 2])\n",
    "b = np.array([3,4])\n",
    "\n",
    "arr= np.vstack((a,b))  # Deault axis = 0\n",
    "arr"
   ]
  },
  {
   "cell_type": "markdown",
   "id": "59075f50",
   "metadata": {},
   "source": [
    "##### For 2D arrays concatenate (shape like (M, N)):\n",
    "| Function              | Input shapes       | Output shape | Explanation                                     |\n",
    "| --------------------- | ------------------ | ------------ | ----------------------------------------------- |\n",
    "| `concatenate(axis=0)` | `(2, 3)`, `(2, 3)` | `(4, 3)`     | Stack vertically (add rows)                     |\n",
    "| `concatenate(axis=1)` | `(2, 3)`, `(2, 3)` | `(2, 6)`     | Stack horizontally (add columns)                |"
   ]
  },
  {
   "cell_type": "code",
   "execution_count": null,
   "id": "fdb84e01",
   "metadata": {},
   "outputs": [
    {
     "data": {
      "text/plain": [
       "array([[ 1,  2,  3],\n",
       "       [ 5,  6,  7],\n",
       "       [ 8,  9, 10],\n",
       "       [11, 12, 13]])"
      ]
     },
     "execution_count": 6,
     "metadata": {},
     "output_type": "execute_result"
    }
   ],
   "source": [
    "# Concatenate axis = 0\n",
    "a2= [[1,2,3],[5,6,7]]  # shape (2,3)\n",
    "b2 = [[8,9,10],[11,12,13]]  # shape (2,3)\n",
    "\n",
    "arr= np.concatenate((a2,b2))    # Default axis = 0\n",
    "arr"
   ]
  },
  {
   "cell_type": "code",
   "execution_count": null,
   "id": "db7ed140",
   "metadata": {},
   "outputs": [
    {
     "data": {
      "text/plain": [
       "array([[ 1,  2,  3,  8,  9, 10],\n",
       "       [ 5,  6,  7, 11, 12, 13]])"
      ]
     },
     "execution_count": 12,
     "metadata": {},
     "output_type": "execute_result"
    }
   ],
   "source": [
    "# Concatenate axis = 1\n",
    "arr= np.concatenate((a2,b2), axis = 1)\n",
    "arr"
   ]
  },
  {
   "cell_type": "code",
   "execution_count": null,
   "id": "58cd27b9",
   "metadata": {},
   "outputs": [
    {
     "ename": "AxisError",
     "evalue": "axis 2 is out of bounds for array of dimension 2",
     "output_type": "error",
     "traceback": [
      "\u001b[31m---------------------------------------------------------------------------\u001b[39m",
      "\u001b[31mAxisError\u001b[39m                                 Traceback (most recent call last)",
      "\u001b[36mCell\u001b[39m\u001b[36m \u001b[39m\u001b[32mIn[11]\u001b[39m\u001b[32m, line 2\u001b[39m\n\u001b[32m      1\u001b[39m \u001b[38;5;66;03m# Concatenate axis = 2\u001b[39;00m\n\u001b[32m----> \u001b[39m\u001b[32m2\u001b[39m arr= \u001b[43mnp\u001b[49m\u001b[43m.\u001b[49m\u001b[43mconcatenate\u001b[49m\u001b[43m(\u001b[49m\u001b[43m(\u001b[49m\u001b[43ma2\u001b[49m\u001b[43m,\u001b[49m\u001b[43mb2\u001b[49m\u001b[43m)\u001b[49m\u001b[43m,\u001b[49m\u001b[43m \u001b[49m\u001b[43maxis\u001b[49m\u001b[43m \u001b[49m\u001b[43m=\u001b[49m\u001b[43m \u001b[49m\u001b[32;43m2\u001b[39;49m\u001b[43m)\u001b[49m\n\u001b[32m      3\u001b[39m arr\n",
      "\u001b[31mAxisError\u001b[39m: axis 2 is out of bounds for array of dimension 2"
     ]
    }
   ],
   "source": [
    "# Concatenate axis = 2\n",
    "arr= np.concatenate((a2,b2), axis = 2)\n",
    "arr"
   ]
  },
  {
   "cell_type": "code",
   "execution_count": null,
   "id": "300fdcfb",
   "metadata": {},
   "outputs": [],
   "source": [
    "x2=np.array([[1,2,3],\n",
    "            [4,5,6]])   # Shape (2, 3)\n",
    "y2=np.array([[7,8,9],\n",
    "            [10,11,12]])  # Shape (2, 3)\n",
    "z2=np.array([[13,14,15],\n",
    "            [16,17,18]])  # Shape (2, 3)"
   ]
  },
  {
   "cell_type": "code",
   "execution_count": null,
   "id": "606ac726",
   "metadata": {},
   "outputs": [
    {
     "data": {
      "text/plain": [
       "array([[ 1,  2,  3],\n",
       "       [ 4,  5,  6],\n",
       "       [ 7,  8,  9],\n",
       "       [10, 11, 12],\n",
       "       [13, 14, 15],\n",
       "       [16, 17, 18]])"
      ]
     },
     "execution_count": 16,
     "metadata": {},
     "output_type": "execute_result"
    }
   ],
   "source": [
    "arr= np.concatenate((x2,y2,z2))    # Default axis = 0\n",
    "arr"
   ]
  },
  {
   "cell_type": "code",
   "execution_count": null,
   "id": "7bf57cbd",
   "metadata": {},
   "outputs": [
    {
     "data": {
      "text/plain": [
       "array([[ 1,  2,  3,  7,  8,  9, 13, 14, 15],\n",
       "       [ 4,  5,  6, 10, 11, 12, 16, 17, 18]])"
      ]
     },
     "execution_count": 17,
     "metadata": {},
     "output_type": "execute_result"
    }
   ],
   "source": [
    "arr= np.concatenate((x2,y2,z2), axis=1)  # Concatenate along axis 1\n",
    "arr"
   ]
  },
  {
   "cell_type": "markdown",
   "id": "f16fc4f4",
   "metadata": {},
   "source": [
    "##### For 3D arrays concatenate (shape like (L, M, N)):\n",
    "| Function              | Input shapes             | Output shape   | Explanation                           |\n",
    "| --------------------- | ------------------------ | -------------- | ------------------------------------- |\n",
    "| `concatenate(axis=0)` | `(2, 3, 4)`, `(2, 3, 4)` | `(4, 3, 4)`    | Stack along first dimension (depth)   |\n",
    "| `concatenate(axis=1)` | `(2, 3, 4)`, `(2, 3, 4)` | `(2, 6, 4)`    | Stack along second dimension (rows)   |\n",
    "| `concatenate(axis=2)` | `(2, 3, 4)`, `(2, 3, 4)` | `(2, 3, 8)`    | Stack along third dimension (columns) |"
   ]
  },
  {
   "cell_type": "code",
   "execution_count": null,
   "id": "cdec6492",
   "metadata": {},
   "outputs": [],
   "source": [
    "# Defining two 3D arrays\n",
    "m3=np.array([[[1,2,3],\n",
    "            [4,5,6],\n",
    "            [7,8,9]],\n",
    "\n",
    "            [[10,11,12],\n",
    "            [13,14,15],\n",
    "            [16,17,18]]])     # Shape (2, 3, 3)\n",
    "\n",
    "n3=np.array([[[51,52,53],\n",
    "            [54,55,56],\n",
    "            [57,58,59]],\n",
    "\n",
    "            [[110,111,112],\n",
    "            [113,114,115],\n",
    "            [116,117,118]]])     # Shape (2, 3, 3)\n"
   ]
  },
  {
   "cell_type": "code",
   "execution_count": null,
   "id": "80f30c11",
   "metadata": {},
   "outputs": [
    {
     "data": {
      "text/plain": [
       "array([[[  1,   2,   3],\n",
       "        [  4,   5,   6],\n",
       "        [  7,   8,   9]],\n",
       "\n",
       "       [[ 10,  11,  12],\n",
       "        [ 13,  14,  15],\n",
       "        [ 16,  17,  18]],\n",
       "\n",
       "       [[ 51,  52,  53],\n",
       "        [ 54,  55,  56],\n",
       "        [ 57,  58,  59]],\n",
       "\n",
       "       [[110, 111, 112],\n",
       "        [113, 114, 115],\n",
       "        [116, 117, 118]]])"
      ]
     },
     "execution_count": 20,
     "metadata": {},
     "output_type": "execute_result"
    }
   ],
   "source": [
    "# Concatenate along the first axis \n",
    "# Shape(4, 3, 3)\n",
    "arr= np.concatenate((m3,n3))    # Default axis = 0\n",
    "arr"
   ]
  },
  {
   "cell_type": "code",
   "execution_count": null,
   "id": "5c9e9957",
   "metadata": {},
   "outputs": [
    {
     "data": {
      "text/plain": [
       "array([[[  1,   2,   3],\n",
       "        [  4,   5,   6],\n",
       "        [  7,   8,   9],\n",
       "        [ 51,  52,  53],\n",
       "        [ 54,  55,  56],\n",
       "        [ 57,  58,  59]],\n",
       "\n",
       "       [[ 10,  11,  12],\n",
       "        [ 13,  14,  15],\n",
       "        [ 16,  17,  18],\n",
       "        [110, 111, 112],\n",
       "        [113, 114, 115],\n",
       "        [116, 117, 118]]])"
      ]
     },
     "execution_count": 22,
     "metadata": {},
     "output_type": "execute_result"
    }
   ],
   "source": [
    "# Concatenate axis = 1\n",
    "# Shape(2, 6, 3)\n",
    "arr= np.concatenate((m3,n3), axis = 1)\n",
    "arr"
   ]
  },
  {
   "cell_type": "code",
   "execution_count": null,
   "id": "2426e714",
   "metadata": {},
   "outputs": [
    {
     "data": {
      "text/plain": [
       "array([[[  1,   2,   3,  51,  52,  53],\n",
       "        [  4,   5,   6,  54,  55,  56],\n",
       "        [  7,   8,   9,  57,  58,  59]],\n",
       "\n",
       "       [[ 10,  11,  12, 110, 111, 112],\n",
       "        [ 13,  14,  15, 113, 114, 115],\n",
       "        [ 16,  17,  18, 116, 117, 118]]])"
      ]
     },
     "execution_count": 23,
     "metadata": {},
     "output_type": "execute_result"
    }
   ],
   "source": [
    "# Concatenate axis = 2\n",
    "# Shape(2, 3, 6)\n",
    "arr= np.concatenate((m3,n3), axis = 2)\n",
    "arr"
   ]
  },
  {
   "cell_type": "markdown",
   "id": "5807e793",
   "metadata": {},
   "source": [
    "##### For 1D arrays Stack (shape like (N,)):\n",
    "| Function        | Input shapes   | Output shape | Explanation                    |\n",
    "| --------------- | -------------- | ------------ | ------------------------------ |\n",
    "| `stack(axis=0)` | `(3,)`, `(3,)` | `(2, 3)`     | New axis added at front (rows) |\n",
    "| `stack(axis=1)` | `(3,)`, `(3,)` | `(3, 2)`     | New axis added as columns      |"
   ]
  },
  {
   "cell_type": "code",
   "execution_count": null,
   "id": "7c27a0bf",
   "metadata": {},
   "outputs": [
    {
     "data": {
      "text/plain": [
       "array([[1, 2],\n",
       "       [3, 4]])"
      ]
     },
     "execution_count": 5,
     "metadata": {},
     "output_type": "execute_result"
    }
   ],
   "source": [
    "# Stack (axis = 0)\n",
    "a = np.array([1, 2])\n",
    "b = np.array([3,4])\n",
    "\n",
    "arr= np.stack((a,b))\n",
    "arr"
   ]
  },
  {
   "cell_type": "code",
   "execution_count": null,
   "id": "3807d64d",
   "metadata": {},
   "outputs": [
    {
     "data": {
      "text/plain": [
       "array([[1, 3],\n",
       "       [2, 4]])"
      ]
     },
     "execution_count": 7,
     "metadata": {},
     "output_type": "execute_result"
    }
   ],
   "source": [
    "# Stack (axis = 1)\n",
    "a = np.array([1, 2])\n",
    "b = np.array([3,4])\n",
    "\n",
    "arr= np.stack((a,b), axis = 1)\n",
    "arr"
   ]
  },
  {
   "cell_type": "code",
   "execution_count": null,
   "id": "f78752c9",
   "metadata": {},
   "outputs": [
    {
     "data": {
      "text/plain": [
       "array([1, 2, 3, 4])"
      ]
     },
     "execution_count": 9,
     "metadata": {},
     "output_type": "execute_result"
    }
   ],
   "source": [
    "# Stack (axis = 1)\n",
    "a = np.array([1, 2])\n",
    "b = np.array([3,4])\n",
    "\n",
    "arr= np.hstack((a,b))\n",
    "arr"
   ]
  },
  {
   "cell_type": "code",
   "execution_count": null,
   "id": "2865462a",
   "metadata": {},
   "outputs": [
    {
     "data": {
      "text/plain": [
       "array([[1, 2],\n",
       "       [3, 4]])"
      ]
     },
     "execution_count": 10,
     "metadata": {},
     "output_type": "execute_result"
    }
   ],
   "source": [
    "# Stack (axis = 1)\n",
    "a = np.array([1, 2])\n",
    "b = np.array([3,4])\n",
    "\n",
    "arr= np.vstack((a,b))\n",
    "arr"
   ]
  },
  {
   "cell_type": "code",
   "execution_count": null,
   "id": "7aab0604",
   "metadata": {},
   "outputs": [
    {
     "data": {
      "text/plain": [
       "array([[[1, 3],\n",
       "        [2, 4]]])"
      ]
     },
     "execution_count": 11,
     "metadata": {},
     "output_type": "execute_result"
    }
   ],
   "source": [
    "# Stack (axis = 1)\n",
    "a = np.array([1, 2])\n",
    "b = np.array([3,4])\n",
    "\n",
    "arr= np.dstack((a,b))\n",
    "arr"
   ]
  },
  {
   "cell_type": "markdown",
   "id": "df646fbb",
   "metadata": {},
   "source": [
    "##### For 2D arrays stack (shape like (M, N)):\n",
    "| Function              | Input shapes       | Output shape | Explanation                                     |\n",
    "| --------------------- | ------------------ | ------------ | ----------------------------------------------- |\n",
    "| `stack(axis=0)`       | `(2, 3)`, `(2, 3)` | `(2, 2, 3)`  | Add new axis at front, stacks arrays depth-wise |\n",
    "| `stack(axis=1)`       | `(2, 3)`, `(2, 3)` | `(2, 2, 3)`  | Add new axis at axis=1                          |\n",
    "| `stack(axis=2)`       | `(2, 3)`, `(2, 3)` | `(2, 3, 2)`  | Add new axis at axis=2 (depth-wise)             |"
   ]
  },
  {
   "cell_type": "markdown",
   "id": "dabb4877",
   "metadata": {},
   "source": [
    "##### For 3D arrays stack (shape like (L, M, N)):\n",
    "| Function              | Input shapes             | Output shape   | Explanation                           |\n",
    "| --------------------- | ------------------------ | -------------- | ------------------------------------- |\n",
    "| `stack(axis=0)`       | `(2, 3, 4)`, `(2, 3, 4)` | `(2, 2, 3, 4)` | Add new axis at front                 |\n",
    "| `stack(axis=1)`       | `(2, 3, 4)`, `(2, 3, 4)` | `(2, 2, 3, 4)` | Add new axis at axis=1                |\n",
    "| `stack(axis=2)`       | `(2, 3, 4)`, `(2, 3, 4)` | `(2, 3, 2, 4)` | Add new axis at axis=2                |\n",
    "| `stack(axis=3)`       | `(2, 3, 4)`, `(2, 3, 4)` | `(2, 3, 4, 2)` | Add new axis at axis=3                |"
   ]
  }
 ],
 "metadata": {
  "kernelspec": {
   "display_name": "base",
   "language": "python",
   "name": "python3"
  },
  "language_info": {
   "codemirror_mode": {
    "name": "ipython",
    "version": 3
   },
   "file_extension": ".py",
   "mimetype": "text/x-python",
   "name": "python",
   "nbconvert_exporter": "python",
   "pygments_lexer": "ipython3",
   "version": "3.13.5"
  }
 },
 "nbformat": 4,
 "nbformat_minor": 5
}
