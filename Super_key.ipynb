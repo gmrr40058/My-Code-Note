{
 "cells": [
  {
   "cell_type": "code",
   "execution_count": 1,
   "id": "859c402e",
   "metadata": {},
   "outputs": [
    {
     "name": "stdout",
     "output_type": "stream",
     "text": [
      "Animal Name: Dog, Breed: German Shepard\n"
     ]
    }
   ],
   "source": [
    "class Animal:\n",
    "    def __init__(self, name):\n",
    "        self.name = name\n",
    "\n",
    "class Dog(Animal):\n",
    "    def __init__(self, name, breed):\n",
    "        super().__init__(name)   # initializes Animal part\n",
    "        self.breed = breed\n",
    "        print(f'Animal Name: {self.name}, Breed: {self.breed}')\n",
    "\n",
    "Dog_1 = Dog('Dog', 'German Shepard')"
   ]
  },
  {
   "cell_type": "code",
   "execution_count": 7,
   "id": "5a18cdfd",
   "metadata": {},
   "outputs": [
    {
     "ename": "AttributeError",
     "evalue": "'Dog' object has no attribute 'name'",
     "output_type": "error",
     "traceback": [
      "\u001b[31m---------------------------------------------------------------------------\u001b[39m",
      "\u001b[31mAttributeError\u001b[39m                            Traceback (most recent call last)",
      "\u001b[36mCell\u001b[39m\u001b[36m \u001b[39m\u001b[32mIn[7]\u001b[39m\u001b[32m, line 11\u001b[39m\n\u001b[32m      8\u001b[39m         \u001b[38;5;28mself\u001b[39m.breed = breed\n\u001b[32m      9\u001b[39m         \u001b[38;5;28mprint\u001b[39m(\u001b[33mf\u001b[39m\u001b[33m'\u001b[39m\u001b[33mAnimal Name: \u001b[39m\u001b[38;5;132;01m{\u001b[39;00m\u001b[38;5;28mself\u001b[39m.name\u001b[38;5;132;01m}\u001b[39;00m\u001b[33m, Breed: \u001b[39m\u001b[38;5;132;01m{\u001b[39;00m\u001b[38;5;28mself\u001b[39m.breed\u001b[38;5;132;01m}\u001b[39;00m\u001b[33m'\u001b[39m)\n\u001b[32m---> \u001b[39m\u001b[32m11\u001b[39m Dog_1 = \u001b[43mDog\u001b[49m\u001b[43m(\u001b[49m\u001b[33;43m'\u001b[39;49m\u001b[33;43mDog\u001b[39;49m\u001b[33;43m'\u001b[39;49m\u001b[43m,\u001b[49m\u001b[43m \u001b[49m\u001b[33;43m'\u001b[39;49m\u001b[33;43mGerman Shepard\u001b[39;49m\u001b[33;43m'\u001b[39;49m\u001b[43m)\u001b[49m\n",
      "\u001b[36mCell\u001b[39m\u001b[36m \u001b[39m\u001b[32mIn[7]\u001b[39m\u001b[32m, line 9\u001b[39m, in \u001b[36mDog.__init__\u001b[39m\u001b[34m(self, name, breed)\u001b[39m\n\u001b[32m      6\u001b[39m \u001b[38;5;28;01mdef\u001b[39;00m\u001b[38;5;250m \u001b[39m\u001b[34m__init__\u001b[39m(\u001b[38;5;28mself\u001b[39m, name, breed):\n\u001b[32m      7\u001b[39m     \u001b[38;5;66;03m# super().__init__(name)   # initializes Animal part\u001b[39;00m\n\u001b[32m      8\u001b[39m     \u001b[38;5;28mself\u001b[39m.breed = breed\n\u001b[32m----> \u001b[39m\u001b[32m9\u001b[39m     \u001b[38;5;28mprint\u001b[39m(\u001b[33mf\u001b[39m\u001b[33m'\u001b[39m\u001b[33mAnimal Name: \u001b[39m\u001b[38;5;132;01m{\u001b[39;00m\u001b[38;5;28;43mself\u001b[39;49m\u001b[43m.\u001b[49m\u001b[43mname\u001b[49m\u001b[38;5;132;01m}\u001b[39;00m\u001b[33m, Breed: \u001b[39m\u001b[38;5;132;01m{\u001b[39;00m\u001b[38;5;28mself\u001b[39m.breed\u001b[38;5;132;01m}\u001b[39;00m\u001b[33m'\u001b[39m)\n",
      "\u001b[31mAttributeError\u001b[39m: 'Dog' object has no attribute 'name'"
     ]
    }
   ],
   "source": [
    "class Animal:\n",
    "    def __init__(self, name):\n",
    "        self.name = name\n",
    "\n",
    "class Dog(Animal):\n",
    "    def __init__(self, name, breed):\n",
    "        # super().__init__(name)   # initializes Animal part\n",
    "        self.breed = breed\n",
    "        print(f'Animal Name: {self.name}, Breed: {self.breed}')\n",
    "\n",
    "Dog_1 = Dog('Dog', 'German Shepard')"
   ]
  },
  {
   "cell_type": "code",
   "execution_count": 9,
   "id": "2d67378a",
   "metadata": {},
   "outputs": [
    {
     "ename": "AttributeError",
     "evalue": "'Dog' object has no attribute 'name'",
     "output_type": "error",
     "traceback": [
      "\u001b[31m---------------------------------------------------------------------------\u001b[39m",
      "\u001b[31mAttributeError\u001b[39m                            Traceback (most recent call last)",
      "\u001b[36mCell\u001b[39m\u001b[36m \u001b[39m\u001b[32mIn[9]\u001b[39m\u001b[32m, line 11\u001b[39m\n\u001b[32m      8\u001b[39m         \u001b[38;5;28mself\u001b[39m.breed = breed\n\u001b[32m      9\u001b[39m         \u001b[38;5;28mprint\u001b[39m(\u001b[33mf\u001b[39m\u001b[33m'\u001b[39m\u001b[33mAnimal Name: \u001b[39m\u001b[38;5;132;01m{\u001b[39;00m\u001b[38;5;28mself\u001b[39m.name\u001b[38;5;132;01m}\u001b[39;00m\u001b[33m, Breed: \u001b[39m\u001b[38;5;132;01m{\u001b[39;00m\u001b[38;5;28mself\u001b[39m.breed\u001b[38;5;132;01m}\u001b[39;00m\u001b[33m'\u001b[39m)\n\u001b[32m---> \u001b[39m\u001b[32m11\u001b[39m Dog_1 = \u001b[43mDog\u001b[49m\u001b[43m(\u001b[49m\u001b[33;43m'\u001b[39;49m\u001b[33;43mGerman Shepard\u001b[39;49m\u001b[33;43m'\u001b[39;49m\u001b[43m)\u001b[49m\n",
      "\u001b[36mCell\u001b[39m\u001b[36m \u001b[39m\u001b[32mIn[9]\u001b[39m\u001b[32m, line 9\u001b[39m, in \u001b[36mDog.__init__\u001b[39m\u001b[34m(self, breed)\u001b[39m\n\u001b[32m      6\u001b[39m \u001b[38;5;28;01mdef\u001b[39;00m\u001b[38;5;250m \u001b[39m\u001b[34m__init__\u001b[39m(\u001b[38;5;28mself\u001b[39m, breed):\n\u001b[32m      7\u001b[39m     \u001b[38;5;66;03m# super().__init__(name)   # initializes Animal part\u001b[39;00m\n\u001b[32m      8\u001b[39m     \u001b[38;5;28mself\u001b[39m.breed = breed\n\u001b[32m----> \u001b[39m\u001b[32m9\u001b[39m     \u001b[38;5;28mprint\u001b[39m(\u001b[33mf\u001b[39m\u001b[33m'\u001b[39m\u001b[33mAnimal Name: \u001b[39m\u001b[38;5;132;01m{\u001b[39;00m\u001b[38;5;28;43mself\u001b[39;49m\u001b[43m.\u001b[49m\u001b[43mname\u001b[49m\u001b[38;5;132;01m}\u001b[39;00m\u001b[33m, Breed: \u001b[39m\u001b[38;5;132;01m{\u001b[39;00m\u001b[38;5;28mself\u001b[39m.breed\u001b[38;5;132;01m}\u001b[39;00m\u001b[33m'\u001b[39m)\n",
      "\u001b[31mAttributeError\u001b[39m: 'Dog' object has no attribute 'name'"
     ]
    }
   ],
   "source": [
    "class Animal:\n",
    "    def __init__(self, name):\n",
    "        self.name = name\n",
    "\n",
    "class Dog(Animal):\n",
    "    def __init__(self, breed):\n",
    "        # super().__init__(name)   # initializes Animal part\n",
    "        self.breed = breed\n",
    "        print(f'Animal Name: {self.name}, Breed: {self.breed}')\n",
    "\n",
    "Dog_1 = Dog('German Shepard')"
   ]
  },
  {
   "cell_type": "code",
   "execution_count": 10,
   "id": "3892438b",
   "metadata": {},
   "outputs": [
    {
     "ename": "AttributeError",
     "evalue": "'Dog' object has no attribute 'name'",
     "output_type": "error",
     "traceback": [
      "\u001b[31m---------------------------------------------------------------------------\u001b[39m",
      "\u001b[31mAttributeError\u001b[39m                            Traceback (most recent call last)",
      "\u001b[36mCell\u001b[39m\u001b[36m \u001b[39m\u001b[32mIn[10]\u001b[39m\u001b[32m, line 12\u001b[39m\n\u001b[32m      9\u001b[39m         \u001b[38;5;28mprint\u001b[39m(\u001b[33mf\u001b[39m\u001b[33m'\u001b[39m\u001b[33mAnimal Name: \u001b[39m\u001b[38;5;132;01m{\u001b[39;00m\u001b[38;5;28mself\u001b[39m.name\u001b[38;5;132;01m}\u001b[39;00m\u001b[33m, Breed: \u001b[39m\u001b[38;5;132;01m{\u001b[39;00m\u001b[38;5;28mself\u001b[39m.breed\u001b[38;5;132;01m}\u001b[39;00m\u001b[33m'\u001b[39m)\n\u001b[32m     11\u001b[39m Animal_1 = Animal(\u001b[33m'\u001b[39m\u001b[33mDog\u001b[39m\u001b[33m'\u001b[39m)\n\u001b[32m---> \u001b[39m\u001b[32m12\u001b[39m Dog_1 = \u001b[43mDog\u001b[49m\u001b[43m(\u001b[49m\u001b[33;43m'\u001b[39;49m\u001b[33;43mGerman Shepard\u001b[39;49m\u001b[33;43m'\u001b[39;49m\u001b[43m)\u001b[49m\n",
      "\u001b[36mCell\u001b[39m\u001b[36m \u001b[39m\u001b[32mIn[10]\u001b[39m\u001b[32m, line 9\u001b[39m, in \u001b[36mDog.__init__\u001b[39m\u001b[34m(self, breed)\u001b[39m\n\u001b[32m      6\u001b[39m \u001b[38;5;28;01mdef\u001b[39;00m\u001b[38;5;250m \u001b[39m\u001b[34m__init__\u001b[39m(\u001b[38;5;28mself\u001b[39m, breed):\n\u001b[32m      7\u001b[39m     \u001b[38;5;66;03m# super().__init__(name)   # initializes Animal part\u001b[39;00m\n\u001b[32m      8\u001b[39m     \u001b[38;5;28mself\u001b[39m.breed = breed\n\u001b[32m----> \u001b[39m\u001b[32m9\u001b[39m     \u001b[38;5;28mprint\u001b[39m(\u001b[33mf\u001b[39m\u001b[33m'\u001b[39m\u001b[33mAnimal Name: \u001b[39m\u001b[38;5;132;01m{\u001b[39;00m\u001b[38;5;28;43mself\u001b[39;49m\u001b[43m.\u001b[49m\u001b[43mname\u001b[49m\u001b[38;5;132;01m}\u001b[39;00m\u001b[33m, Breed: \u001b[39m\u001b[38;5;132;01m{\u001b[39;00m\u001b[38;5;28mself\u001b[39m.breed\u001b[38;5;132;01m}\u001b[39;00m\u001b[33m'\u001b[39m)\n",
      "\u001b[31mAttributeError\u001b[39m: 'Dog' object has no attribute 'name'"
     ]
    }
   ],
   "source": [
    "class Animal:\n",
    "    def __init__(self, name):\n",
    "        self.name = name\n",
    "\n",
    "class Dog(Animal):\n",
    "    def __init__(self, breed):\n",
    "        # super().__init__(name)   # initializes Animal part\n",
    "        self.breed = breed\n",
    "        print(f'Animal Name: {self.name}, Breed: {self.breed}')\n",
    "\n",
    "Animal_1 = Animal('Dog')\n",
    "Dog_1 = Dog('German Shepard')"
   ]
  },
  {
   "cell_type": "code",
   "execution_count": 11,
   "id": "4df7e1d0",
   "metadata": {},
   "outputs": [],
   "source": [
    "class Animal:\n",
    "    def __init__(self, name):\n",
    "        self.name = name\n",
    "\n",
    "class Dog(Animal):\n",
    "    def __init__(self, breed):\n",
    "        # super().__init__(name)   # initializes Animal part\n",
    "        self.breed = breed\n",
    "        \n",
    "    def display(self):\n",
    "        print(f'Animal Name: {self.name}, Breed: {self.breed}')\n",
    "\n",
    "Animal_1 = Animal('Dog')\n",
    "Dog_1 = Dog('German Shepard')"
   ]
  },
  {
   "cell_type": "code",
   "execution_count": 18,
   "id": "b49cdcd1",
   "metadata": {},
   "outputs": [
    {
     "ename": "AttributeError",
     "evalue": "'Dog' object has no attribute 'name'",
     "output_type": "error",
     "traceback": [
      "\u001b[31m---------------------------------------------------------------------------\u001b[39m",
      "\u001b[31mAttributeError\u001b[39m                            Traceback (most recent call last)",
      "\u001b[36mCell\u001b[39m\u001b[36m \u001b[39m\u001b[32mIn[18]\u001b[39m\u001b[32m, line 15\u001b[39m\n\u001b[32m     13\u001b[39m Dog_1 = Animal(\u001b[33m'\u001b[39m\u001b[33mDog\u001b[39m\u001b[33m'\u001b[39m)\n\u001b[32m     14\u001b[39m Dog_1 = Dog(\u001b[33m'\u001b[39m\u001b[33mGerman Shepard\u001b[39m\u001b[33m'\u001b[39m)\n\u001b[32m---> \u001b[39m\u001b[32m15\u001b[39m \u001b[43mDog_1\u001b[49m\u001b[43m.\u001b[49m\u001b[43mdisplay\u001b[49m\u001b[43m(\u001b[49m\u001b[43m)\u001b[49m\n",
      "\u001b[36mCell\u001b[39m\u001b[36m \u001b[39m\u001b[32mIn[18]\u001b[39m\u001b[32m, line 11\u001b[39m, in \u001b[36mDog.display\u001b[39m\u001b[34m(self)\u001b[39m\n\u001b[32m     10\u001b[39m \u001b[38;5;28;01mdef\u001b[39;00m\u001b[38;5;250m \u001b[39m\u001b[34mdisplay\u001b[39m(\u001b[38;5;28mself\u001b[39m):\n\u001b[32m---> \u001b[39m\u001b[32m11\u001b[39m     \u001b[38;5;28mprint\u001b[39m(\u001b[33mf\u001b[39m\u001b[33m'\u001b[39m\u001b[33mAnimal Name: \u001b[39m\u001b[38;5;132;01m{\u001b[39;00m\u001b[38;5;28;43mself\u001b[39;49m\u001b[43m.\u001b[49m\u001b[43mname\u001b[49m\u001b[38;5;132;01m}\u001b[39;00m\u001b[33m, Breed: \u001b[39m\u001b[38;5;132;01m{\u001b[39;00m\u001b[38;5;28mself\u001b[39m.breed\u001b[38;5;132;01m}\u001b[39;00m\u001b[33m'\u001b[39m)\n",
      "\u001b[31mAttributeError\u001b[39m: 'Dog' object has no attribute 'name'"
     ]
    }
   ],
   "source": [
    "class Animal:\n",
    "    def __init__(self, name):\n",
    "        self.name = name\n",
    "\n",
    "class Dog(Animal):\n",
    "    def __init__(self, breed):\n",
    "        # super().__init__(name)   # initializes Animal part\n",
    "        self.breed = breed\n",
    "        \n",
    "    def display(self):\n",
    "        print(f'Animal Name: {self.name}, Breed: {self.breed}')\n",
    "\n",
    "Dog_1 = Animal('Dog')\n",
    "Dog_1 = Dog('German Shepard')\n",
    "Dog_1.display()\n"
   ]
  },
  {
   "cell_type": "code",
   "execution_count": 22,
   "id": "5250456a",
   "metadata": {},
   "outputs": [
    {
     "name": "stdout",
     "output_type": "stream",
     "text": [
      "Animal Name: Tommy, Breed: German Shepard, Country of Origin: Germany\n"
     ]
    }
   ],
   "source": [
    "class Animal:\n",
    "    def __init__(self, name, origin):\n",
    "        self.name = name  # Public attribute\n",
    "        self.origin = origin\n",
    "\n",
    "class Dog(Animal):\n",
    "    def __init__(self, name, origin, breed):\n",
    "        super().__init__(name, origin)  # ✅ Initialize 'name'\n",
    "        self.breed = breed\n",
    "        \n",
    "    def display(self):\n",
    "        # ✅ Can access public attribute from parent\n",
    "        print(f'Animal Name: {self.name}, Breed: {self.breed}, Country of Origin: {self.origin}')\n",
    "\n",
    "Dog_1 = Dog('Tommy','Germany', 'German Shepard')\n",
    "Dog_1.display()\n"
   ]
  },
  {
   "cell_type": "code",
   "execution_count": 23,
   "id": "5f9db8e0",
   "metadata": {},
   "outputs": [
    {
     "ename": "AttributeError",
     "evalue": "'Dog' object has no attribute 'origin'",
     "output_type": "error",
     "traceback": [
      "\u001b[31m---------------------------------------------------------------------------\u001b[39m",
      "\u001b[31mAttributeError\u001b[39m                            Traceback (most recent call last)",
      "\u001b[36mCell\u001b[39m\u001b[36m \u001b[39m\u001b[32mIn[23]\u001b[39m\u001b[32m, line 16\u001b[39m\n\u001b[32m     13\u001b[39m         \u001b[38;5;28mprint\u001b[39m(\u001b[33mf\u001b[39m\u001b[33m'\u001b[39m\u001b[33mAnimal Name: \u001b[39m\u001b[38;5;132;01m{\u001b[39;00m\u001b[38;5;28mself\u001b[39m.name\u001b[38;5;132;01m}\u001b[39;00m\u001b[33m, Breed: \u001b[39m\u001b[38;5;132;01m{\u001b[39;00m\u001b[38;5;28mself\u001b[39m.breed\u001b[38;5;132;01m}\u001b[39;00m\u001b[33m, Country of Origin: \u001b[39m\u001b[38;5;132;01m{\u001b[39;00m\u001b[38;5;28mself\u001b[39m.origin\u001b[38;5;132;01m}\u001b[39;00m\u001b[33m'\u001b[39m)\n\u001b[32m     15\u001b[39m Dog_1 = Dog(\u001b[33m'\u001b[39m\u001b[33mTommy\u001b[39m\u001b[33m'\u001b[39m,\u001b[33m'\u001b[39m\u001b[33mGermany\u001b[39m\u001b[33m'\u001b[39m, \u001b[33m'\u001b[39m\u001b[33mGerman Shepard\u001b[39m\u001b[33m'\u001b[39m)\n\u001b[32m---> \u001b[39m\u001b[32m16\u001b[39m \u001b[43mDog_1\u001b[49m\u001b[43m.\u001b[49m\u001b[43mdisplay\u001b[49m\u001b[43m(\u001b[49m\u001b[43m)\u001b[49m\n",
      "\u001b[36mCell\u001b[39m\u001b[36m \u001b[39m\u001b[32mIn[23]\u001b[39m\u001b[32m, line 13\u001b[39m, in \u001b[36mDog.display\u001b[39m\u001b[34m(self)\u001b[39m\n\u001b[32m     11\u001b[39m \u001b[38;5;28;01mdef\u001b[39;00m\u001b[38;5;250m \u001b[39m\u001b[34mdisplay\u001b[39m(\u001b[38;5;28mself\u001b[39m):\n\u001b[32m     12\u001b[39m     \u001b[38;5;66;03m# ✅ Can access public attribute from parent\u001b[39;00m\n\u001b[32m---> \u001b[39m\u001b[32m13\u001b[39m     \u001b[38;5;28mprint\u001b[39m(\u001b[33mf\u001b[39m\u001b[33m'\u001b[39m\u001b[33mAnimal Name: \u001b[39m\u001b[38;5;132;01m{\u001b[39;00m\u001b[38;5;28mself\u001b[39m.name\u001b[38;5;132;01m}\u001b[39;00m\u001b[33m, Breed: \u001b[39m\u001b[38;5;132;01m{\u001b[39;00m\u001b[38;5;28mself\u001b[39m.breed\u001b[38;5;132;01m}\u001b[39;00m\u001b[33m, Country of Origin: \u001b[39m\u001b[38;5;132;01m{\u001b[39;00m\u001b[38;5;28;43mself\u001b[39;49m\u001b[43m.\u001b[49m\u001b[43morigin\u001b[49m\u001b[38;5;132;01m}\u001b[39;00m\u001b[33m'\u001b[39m)\n",
      "\u001b[31mAttributeError\u001b[39m: 'Dog' object has no attribute 'origin'"
     ]
    }
   ],
   "source": [
    "class Animal:\n",
    "    def __init__(self, name, origin):\n",
    "        self.name = name  # Public attribute\n",
    "        self.__origin = origin\n",
    "\n",
    "class Dog(Animal):\n",
    "    def __init__(self, name, origin, breed):\n",
    "        super().__init__(name, origin)  # ✅ Initialize 'name'\n",
    "        self.breed = breed\n",
    "        \n",
    "    def display(self):\n",
    "        # ✅ Can access public attribute from parent\n",
    "        print(f'Animal Name: {self.name}, Breed: {self.breed}, Country of Origin: {self.origin}')\n",
    "\n",
    "Dog_1 = Dog('Tommy','Germany', 'German Shepard')\n",
    "Dog_1.display()\n"
   ]
  },
  {
   "cell_type": "code",
   "execution_count": null,
   "id": "fed534ce",
   "metadata": {},
   "outputs": [
    {
     "name": "stdout",
     "output_type": "stream",
     "text": [
      "Animal Name: Tommy, Breed: German Shepard, Country of Origin: Germany\n"
     ]
    }
   ],
   "source": [
    "class Animal:\n",
    "    def __init__(self, name, origin):\n",
    "        self.name = name  # Public attribute\n",
    "        self.__origin = origin\n",
    "        \n",
    "    def hate(self):     #Gater Method\n",
    "        return self.__origin\n",
    "\n",
    "class Dog(Animal):\n",
    "    def __init__(self, name, origin, breed):\n",
    "        super().__init__(name, origin)  # ✅ Initialize 'name'\n",
    "        self.breed = breed\n",
    "        \n",
    "    def display(self):\n",
    "        # ✅ Can access public attribute from parent\n",
    "        print(f'Animal Name: {self.name}, Breed: {self.breed}, Country of Origin: {self.hate()}')\n",
    "\n",
    "Dog_1 = Dog('Tommy','Germany', 'German Shepard')\n",
    "Dog_1.display()\n"
   ]
  },
  {
   "cell_type": "code",
   "execution_count": 30,
   "id": "4f678be8",
   "metadata": {},
   "outputs": [
    {
     "name": "stdout",
     "output_type": "stream",
     "text": [
      "Germany\n"
     ]
    }
   ],
   "source": [
    "class Animal:\n",
    "    def __init__(self, name, origin):\n",
    "        self.name = name  # Public attribute\n",
    "        self.__origin = origin\n",
    "        \n",
    "    def hate(self):     #Gater Method\n",
    "        return self.__origin\n",
    "\n",
    "class Dog(Animal):\n",
    "    def __init__(self, name, origin, breed):\n",
    "        super().__init__(name, origin)  # ✅ Initialize 'name'\n",
    "        self.breed = breed\n",
    "        \n",
    "    def display(self):\n",
    "        # ✅ Can access public attribute from parent\n",
    "        print(f'Animal Name: {self.name}, Breed: {self.breed}, Country of Origin: {self.hate()}')\n",
    "\n",
    "Dog_1 = Animal('Tommy', 'Germany')\n",
    "# Dog_1.display()\n",
    "print(Dog_1._Animal__origin)\n"
   ]
  },
  {
   "cell_type": "code",
   "execution_count": null,
   "id": "426a91e8",
   "metadata": {},
   "outputs": [
    {
     "name": "stdout",
     "output_type": "stream",
     "text": [
      "Germany\n"
     ]
    }
   ],
   "source": [
    "class Animal:\n",
    "    def __init__(self, name, origin):\n",
    "        self.name = name  # Public attribute\n",
    "        self.__origin = origin  # Private attribute\n",
    "        \n",
    "    def hate(self):     #Gater Method\n",
    "        return self.__origin\n",
    "\n",
    "class Dog(Animal):\n",
    "    def __init__(self, name, origin, breed):\n",
    "        super().__init__(name, origin)  # ✅ Initialize 'name'\n",
    "        self.breed = breed\n",
    "        \n",
    "    def display(self):\n",
    "        # ✅ Can access public attribute from parent\n",
    "        print(f'Animal Name: {self.name}, Breed: {self.breed}, Country of Origin: {self.hate()}')\n",
    "\n",
    "Dog_1 = Dog('Tommy','Germany', 'German Shepard')\n",
    "# Dog_1.display()\n",
    "print(Dog_1._Animal__origin)\n"
   ]
  },
  {
   "cell_type": "code",
   "execution_count": 33,
   "id": "cf23d099",
   "metadata": {},
   "outputs": [
    {
     "ename": "AttributeError",
     "evalue": "'Dog' object has no attribute '_Dog__origin'",
     "output_type": "error",
     "traceback": [
      "\u001b[31m---------------------------------------------------------------------------\u001b[39m",
      "\u001b[31mAttributeError\u001b[39m                            Traceback (most recent call last)",
      "\u001b[36mCell\u001b[39m\u001b[36m \u001b[39m\u001b[32mIn[33]\u001b[39m\u001b[32m, line 20\u001b[39m\n\u001b[32m     18\u001b[39m Dog_1 = Dog(\u001b[33m'\u001b[39m\u001b[33mTommy\u001b[39m\u001b[33m'\u001b[39m,\u001b[33m'\u001b[39m\u001b[33mGermany\u001b[39m\u001b[33m'\u001b[39m, \u001b[33m'\u001b[39m\u001b[33mGerman Shepard\u001b[39m\u001b[33m'\u001b[39m)\n\u001b[32m     19\u001b[39m \u001b[38;5;66;03m# Dog_1.display()\u001b[39;00m\n\u001b[32m---> \u001b[39m\u001b[32m20\u001b[39m \u001b[38;5;28mprint\u001b[39m(\u001b[43mDog_1\u001b[49m\u001b[43m.\u001b[49m\u001b[43m_Dog__origin\u001b[49m)\n",
      "\u001b[31mAttributeError\u001b[39m: 'Dog' object has no attribute '_Dog__origin'"
     ]
    }
   ],
   "source": [
    "class Animal:\n",
    "    def __init__(self, name, origin):\n",
    "        self.name = name  # Public attribute\n",
    "        self.__origin = origin\n",
    "        \n",
    "    def hate(self):     #Gater Method\n",
    "        return self.__origin\n",
    "\n",
    "class Dog(Animal):\n",
    "    def __init__(self, name, origin, breed):\n",
    "        super().__init__(name, origin)  # ✅ Initialize 'name'\n",
    "        self.breed = breed\n",
    "        \n",
    "    def display(self):\n",
    "        # ✅ Can access public attribute from parent\n",
    "        print(f'Animal Name: {self.name}, Breed: {self.breed}, Country of Origin: {self.hate()}')\n",
    "\n",
    "Dog_1 = Dog('Tommy','Germany', 'German Shepard')\n",
    "# Dog_1.display()\n",
    "print(Dog_1._Dog__origin)\n"
   ]
  },
  {
   "cell_type": "code",
   "execution_count": 34,
   "id": "7e2d35e4",
   "metadata": {},
   "outputs": [
    {
     "name": "stdout",
     "output_type": "stream",
     "text": [
      "V8\n"
     ]
    }
   ],
   "source": [
    "class Vehicle:\n",
    "    def __init__(self, engine):\n",
    "        self._engine = engine  # Protected\n",
    "\n",
    "class Car(Vehicle):\n",
    "    def show(self):\n",
    "        print(self._engine)    # ✅ Accessible in subclass\n",
    "\n",
    "car = Car(\"V8\")\n",
    "print(car._engine)  # ⚠️ Works, but not recommended\n"
   ]
  },
  {
   "cell_type": "code",
   "execution_count": 35,
   "id": "1d155e02",
   "metadata": {},
   "outputs": [
    {
     "name": "stdout",
     "output_type": "stream",
     "text": [
      "Animal Name: Tommy\n"
     ]
    }
   ],
   "source": [
    "class Animal:\n",
    "    def __init__(self, name):\n",
    "        self.name = name\n",
    "\n",
    "class Dog(Animal):   \n",
    "    def display(self):\n",
    "        print(f'Animal Name: {self.name}')\n",
    "\n",
    "Dog_1 = Dog('Tommy')\n",
    "Dog_1.display()\n"
   ]
  },
  {
   "cell_type": "code",
   "execution_count": null,
   "id": "d0129893",
   "metadata": {},
   "outputs": [
    {
     "name": "stdout",
     "output_type": "stream",
     "text": [
      "Animal Name: Tommy # Showing from Dog class\n"
     ]
    }
   ],
   "source": [
    "class Animal:\n",
    "    def __init__(self, name):\n",
    "        self.name = name\n",
    "\n",
    "    def display_Animal(self):\n",
    "        print(f'Animal Name: {self.name} # Showing from Animal class')\n",
    "        \n",
    "class Dog(Animal):   \n",
    "    def display(self):\n",
    "        print(f'Animal Name: {self.name} # Showing from Dog class')\n",
    "\n",
    "Dog_1 = Dog('Tommy')\n",
    "Dog_1.display()\n"
   ]
  },
  {
   "cell_type": "code",
   "execution_count": 39,
   "id": "922918da",
   "metadata": {},
   "outputs": [
    {
     "ename": "NameError",
     "evalue": "name 'display_Animal' is not defined",
     "output_type": "error",
     "traceback": [
      "\u001b[31m---------------------------------------------------------------------------\u001b[39m",
      "\u001b[31mNameError\u001b[39m                                 Traceback (most recent call last)",
      "\u001b[36mCell\u001b[39m\u001b[36m \u001b[39m\u001b[32mIn[39]\u001b[39m\u001b[32m, line 14\u001b[39m\n\u001b[32m     11\u001b[39m         \u001b[38;5;28mprint\u001b[39m(\u001b[33mf\u001b[39m\u001b[33m'\u001b[39m\u001b[33mAnimal Name: \u001b[39m\u001b[38;5;132;01m{\u001b[39;00m\u001b[38;5;28mself\u001b[39m.name\u001b[38;5;132;01m}\u001b[39;00m\u001b[33m # Showing from Dog class\u001b[39m\u001b[33m'\u001b[39m)\n\u001b[32m     13\u001b[39m Dog_1 = Dog(\u001b[33m'\u001b[39m\u001b[33mTommy\u001b[39m\u001b[33m'\u001b[39m)\n\u001b[32m---> \u001b[39m\u001b[32m14\u001b[39m \u001b[43mDog_1\u001b[49m\u001b[43m.\u001b[49m\u001b[43mdisplay\u001b[49m\u001b[43m(\u001b[49m\u001b[43m)\u001b[49m\n",
      "\u001b[36mCell\u001b[39m\u001b[36m \u001b[39m\u001b[32mIn[39]\u001b[39m\u001b[32m, line 10\u001b[39m, in \u001b[36mDog.display\u001b[39m\u001b[34m(self)\u001b[39m\n\u001b[32m      9\u001b[39m \u001b[38;5;28;01mdef\u001b[39;00m\u001b[38;5;250m \u001b[39m\u001b[34mdisplay\u001b[39m(\u001b[38;5;28mself\u001b[39m):\n\u001b[32m---> \u001b[39m\u001b[32m10\u001b[39m     \u001b[43mdisplay_Animal\u001b[49m()  \u001b[38;5;66;03m# Call the parent method\u001b[39;00m\n\u001b[32m     11\u001b[39m     \u001b[38;5;28mprint\u001b[39m(\u001b[33mf\u001b[39m\u001b[33m'\u001b[39m\u001b[33mAnimal Name: \u001b[39m\u001b[38;5;132;01m{\u001b[39;00m\u001b[38;5;28mself\u001b[39m.name\u001b[38;5;132;01m}\u001b[39;00m\u001b[33m # Showing from Dog class\u001b[39m\u001b[33m'\u001b[39m)\n",
      "\u001b[31mNameError\u001b[39m: name 'display_Animal' is not defined"
     ]
    }
   ],
   "source": [
    "class Animal:\n",
    "    def __init__(self, name):\n",
    "        self.name = name\n",
    "\n",
    "    def display_Animal(self):\n",
    "        print(f'Animal Name: {self.name} # Showing from Animal class')\n",
    "        \n",
    "class Dog(Animal):   \n",
    "    def display(self):\n",
    "        display_Animal()  # Call the parent method\n",
    "        print(f'Animal Name: {self.name} # Showing from Dog class')\n",
    "\n",
    "Dog_1 = Dog('Tommy')\n",
    "Dog_1.display()\n"
   ]
  },
  {
   "cell_type": "code",
   "execution_count": 40,
   "id": "6037322a",
   "metadata": {},
   "outputs": [
    {
     "name": "stdout",
     "output_type": "stream",
     "text": [
      "Animal Name: Tommy # Showing from Animal class\n",
      "Animal Name: Tommy # Showing from Dog class\n"
     ]
    }
   ],
   "source": [
    "class Animal:\n",
    "    def __init__(self, name):\n",
    "        self.name = name\n",
    "\n",
    "    def display_Animal(self):\n",
    "        print(f'Animal Name: {self.name} # Showing from Animal class')\n",
    "        \n",
    "class Dog(Animal):   \n",
    "    def display(self):\n",
    "        super().display_Animal()  # Call the parent method\n",
    "        print(f'Animal Name: {self.name} # Showing from Dog class')\n",
    "\n",
    "Dog_1 = Dog('Tommy')\n",
    "Dog_1.display()\n"
   ]
  },
  {
   "cell_type": "code",
   "execution_count": 58,
   "id": "c4982e68",
   "metadata": {},
   "outputs": [
    {
     "name": "stdout",
     "output_type": "stream",
     "text": [
      "Animal Name: Tommy # Showing from Animal class\n",
      "Animal Name: Tommy # Showing from Dog class\n"
     ]
    }
   ],
   "source": [
    "class Animal:\n",
    "    def __init__(self, name):\n",
    "        self.name = name\n",
    "\n",
    "    def display_Animal(self):\n",
    "        print(f'Animal Name: {self.name} # Showing from Animal class')\n",
    "        \n",
    "class Dog(Animal):   \n",
    "    def display(self):\n",
    "        self.display_Animal()  # Call the parent method\n",
    "        print(f'Animal Name: {self.name} # Showing from Dog class')\n",
    "\n",
    "Dog_1 = Dog('Tommy')\n",
    "Dog_1.display()\n"
   ]
  },
  {
   "cell_type": "code",
   "execution_count": null,
   "id": "fa418e13",
   "metadata": {},
   "outputs": [
    {
     "ename": "RecursionError",
     "evalue": "maximum recursion depth exceeded",
     "output_type": "error",
     "traceback": [
      "\u001b[31m---------------------------------------------------------------------------\u001b[39m",
      "\u001b[31mRecursionError\u001b[39m                            Traceback (most recent call last)",
      "\u001b[36mCell\u001b[39m\u001b[36m \u001b[39m\u001b[32mIn[61]\u001b[39m\u001b[32m, line 16\u001b[39m\n\u001b[32m     13\u001b[39m         \u001b[38;5;28msuper\u001b[39m().display_Animal()  \u001b[38;5;66;03m# Call the parent method\u001b[39;00m\n\u001b[32m     14\u001b[39m         \u001b[38;5;28mprint\u001b[39m(\u001b[33mf\u001b[39m\u001b[33m'\u001b[39m\u001b[33mAnimal Name: \u001b[39m\u001b[38;5;132;01m{\u001b[39;00m\u001b[38;5;28mself\u001b[39m.name\u001b[38;5;132;01m}\u001b[39;00m\u001b[33m # Showing from Dog class\u001b[39m\u001b[33m'\u001b[39m)\n\u001b[32m---> \u001b[39m\u001b[32m16\u001b[39m Dog_1 = \u001b[43mDog\u001b[49m\u001b[43m(\u001b[49m\u001b[33;43m'\u001b[39;49m\u001b[33;43mTommy\u001b[39;49m\u001b[33;43m'\u001b[39;49m\u001b[43m)\u001b[49m\n\u001b[32m     17\u001b[39m Dog_1.display()\n",
      "\u001b[36mCell\u001b[39m\u001b[36m \u001b[39m\u001b[32mIn[61]\u001b[39m\u001b[32m, line 10\u001b[39m, in \u001b[36mDog.__init__\u001b[39m\u001b[34m(self, name)\u001b[39m\n\u001b[32m      9\u001b[39m \u001b[38;5;28;01mdef\u001b[39;00m\u001b[38;5;250m \u001b[39m\u001b[34m__init__\u001b[39m(\u001b[38;5;28mself\u001b[39m, name):\n\u001b[32m---> \u001b[39m\u001b[32m10\u001b[39m     \u001b[38;5;28;43mself\u001b[39;49m\u001b[43m.\u001b[49m\u001b[34;43m__init__\u001b[39;49m\u001b[43m(\u001b[49m\u001b[43mname\u001b[49m\u001b[43m)\u001b[49m\n",
      "\u001b[36mCell\u001b[39m\u001b[36m \u001b[39m\u001b[32mIn[61]\u001b[39m\u001b[32m, line 10\u001b[39m, in \u001b[36mDog.__init__\u001b[39m\u001b[34m(self, name)\u001b[39m\n\u001b[32m      9\u001b[39m \u001b[38;5;28;01mdef\u001b[39;00m\u001b[38;5;250m \u001b[39m\u001b[34m__init__\u001b[39m(\u001b[38;5;28mself\u001b[39m, name):\n\u001b[32m---> \u001b[39m\u001b[32m10\u001b[39m     \u001b[38;5;28;43mself\u001b[39;49m\u001b[43m.\u001b[49m\u001b[34;43m__init__\u001b[39;49m\u001b[43m(\u001b[49m\u001b[43mname\u001b[49m\u001b[43m)\u001b[49m\n",
      "    \u001b[31m[... skipping similar frames: Dog.__init__ at line 10 (2974 times)]\u001b[39m\n",
      "\u001b[36mCell\u001b[39m\u001b[36m \u001b[39m\u001b[32mIn[61]\u001b[39m\u001b[32m, line 10\u001b[39m, in \u001b[36mDog.__init__\u001b[39m\u001b[34m(self, name)\u001b[39m\n\u001b[32m      9\u001b[39m \u001b[38;5;28;01mdef\u001b[39;00m\u001b[38;5;250m \u001b[39m\u001b[34m__init__\u001b[39m(\u001b[38;5;28mself\u001b[39m, name):\n\u001b[32m---> \u001b[39m\u001b[32m10\u001b[39m     \u001b[38;5;28;43mself\u001b[39;49m\u001b[43m.\u001b[49m\u001b[34;43m__init__\u001b[39;49m\u001b[43m(\u001b[49m\u001b[43mname\u001b[49m\u001b[43m)\u001b[49m\n",
      "\u001b[31mRecursionError\u001b[39m: maximum recursion depth exceeded"
     ]
    }
   ],
   "source": [
    "class Animal:\n",
    "    def __init__(self, name):\n",
    "        self.name = name\n",
    "\n",
    "    def display_Animal(self):\n",
    "        print(f'Animal Name: {self.name} # Showing from Animal class')\n",
    "        \n",
    "class Dog(Animal):\n",
    "    def __init__(self, name):\n",
    "        super().__init__(name)  # Initialize the parent class\n",
    "        \n",
    "    def display(self):\n",
    "        super().display_Animal()  # Call the parent method\n",
    "        print(f'Animal Name: {self.name} # Showing from Dog class')\n",
    "\n",
    "Dog_1 = Dog('Tommy')\n",
    "Dog_1.display()\n"
   ]
  },
  {
   "cell_type": "code",
   "execution_count": 49,
   "id": "26cead35",
   "metadata": {},
   "outputs": [
    {
     "ename": "TypeError",
     "evalue": "Animal.__init__() missing 1 required positional argument: 'origin'",
     "output_type": "error",
     "traceback": [
      "\u001b[31m---------------------------------------------------------------------------\u001b[39m",
      "\u001b[31mTypeError\u001b[39m                                 Traceback (most recent call last)",
      "\u001b[36mCell\u001b[39m\u001b[36m \u001b[39m\u001b[32mIn[49]\u001b[39m\u001b[32m, line 17\u001b[39m\n\u001b[32m     14\u001b[39m         \u001b[38;5;28msuper\u001b[39m().display_Animal()  \u001b[38;5;66;03m# Call the parent method\u001b[39;00m\n\u001b[32m     15\u001b[39m         \u001b[38;5;28mprint\u001b[39m(\u001b[33mf\u001b[39m\u001b[33m'\u001b[39m\u001b[33mAnimal Name: \u001b[39m\u001b[38;5;132;01m{\u001b[39;00m\u001b[38;5;28mself\u001b[39m.name\u001b[38;5;132;01m}\u001b[39;00m\u001b[33m # Showing from Dog class\u001b[39m\u001b[33m'\u001b[39m)\n\u001b[32m---> \u001b[39m\u001b[32m17\u001b[39m Dog_1 = \u001b[43mDog\u001b[49m\u001b[43m(\u001b[49m\u001b[33;43m'\u001b[39;49m\u001b[33;43mTommy\u001b[39;49m\u001b[33;43m'\u001b[39;49m\u001b[43m)\u001b[49m\n\u001b[32m     18\u001b[39m Dog_1.display()\n",
      "\u001b[36mCell\u001b[39m\u001b[36m \u001b[39m\u001b[32mIn[49]\u001b[39m\u001b[32m, line 11\u001b[39m, in \u001b[36mDog.__init__\u001b[39m\u001b[34m(self, name)\u001b[39m\n\u001b[32m     10\u001b[39m \u001b[38;5;28;01mdef\u001b[39;00m\u001b[38;5;250m \u001b[39m\u001b[34m__init__\u001b[39m(\u001b[38;5;28mself\u001b[39m, name):\n\u001b[32m---> \u001b[39m\u001b[32m11\u001b[39m     \u001b[38;5;28;43msuper\u001b[39;49m\u001b[43m(\u001b[49m\u001b[43m)\u001b[49m\u001b[43m.\u001b[49m\u001b[34;43m__init__\u001b[39;49m\u001b[43m(\u001b[49m\u001b[43mname\u001b[49m\u001b[43m)\u001b[49m\n",
      "\u001b[31mTypeError\u001b[39m: Animal.__init__() missing 1 required positional argument: 'origin'"
     ]
    }
   ],
   "source": [
    "class Animal:\n",
    "    def __init__(self, name, origin):\n",
    "        self.name = name\n",
    "        self.origin = origin\n",
    "\n",
    "    def display_Animal(self):\n",
    "        print(f'Animal Name: {self.name} # Showing from Animal class')\n",
    "        \n",
    "class Dog(Animal):\n",
    "    def __init__(self, name):\n",
    "        super().__init__(name)  # Initialize the parent class\n",
    "        \n",
    "    def display(self):\n",
    "        super().display_Animal()  # Call the parent method\n",
    "        print(f'Animal Name: {self.name} # Showing from Dog class')\n",
    "\n",
    "Dog_1 = Dog('Tommy')\n",
    "Dog_1.display()\n"
   ]
  },
  {
   "cell_type": "code",
   "execution_count": 51,
   "id": "297b29c3",
   "metadata": {},
   "outputs": [
    {
     "ename": "TypeError",
     "evalue": "Animal.__init__() missing 1 required positional argument: 'origin'",
     "output_type": "error",
     "traceback": [
      "\u001b[31m---------------------------------------------------------------------------\u001b[39m",
      "\u001b[31mTypeError\u001b[39m                                 Traceback (most recent call last)",
      "\u001b[36mCell\u001b[39m\u001b[36m \u001b[39m\u001b[32mIn[51]\u001b[39m\u001b[32m, line 17\u001b[39m\n\u001b[32m     14\u001b[39m         \u001b[38;5;28msuper\u001b[39m().display_Animal()  \u001b[38;5;66;03m# Call the parent method\u001b[39;00m\n\u001b[32m     15\u001b[39m         \u001b[38;5;28mprint\u001b[39m(\u001b[33mf\u001b[39m\u001b[33m'\u001b[39m\u001b[33mAnimal Name: \u001b[39m\u001b[38;5;132;01m{\u001b[39;00m\u001b[38;5;28mself\u001b[39m.name\u001b[38;5;132;01m}\u001b[39;00m\u001b[33m # Showing from Dog class\u001b[39m\u001b[33m'\u001b[39m)\n\u001b[32m---> \u001b[39m\u001b[32m17\u001b[39m Dog_1 = \u001b[43mDog\u001b[49m\u001b[43m(\u001b[49m\u001b[33;43m'\u001b[39;49m\u001b[33;43mTommy\u001b[39;49m\u001b[33;43m'\u001b[39;49m\u001b[43m,\u001b[49m\u001b[43m \u001b[49m\u001b[33;43m'\u001b[39;49m\u001b[33;43mGermany\u001b[39;49m\u001b[33;43m'\u001b[39;49m\u001b[43m)\u001b[49m\n\u001b[32m     18\u001b[39m Dog_1.display()\n",
      "\u001b[36mCell\u001b[39m\u001b[36m \u001b[39m\u001b[32mIn[51]\u001b[39m\u001b[32m, line 11\u001b[39m, in \u001b[36mDog.__init__\u001b[39m\u001b[34m(self, name, origin)\u001b[39m\n\u001b[32m     10\u001b[39m \u001b[38;5;28;01mdef\u001b[39;00m\u001b[38;5;250m \u001b[39m\u001b[34m__init__\u001b[39m(\u001b[38;5;28mself\u001b[39m, name, origin):\n\u001b[32m---> \u001b[39m\u001b[32m11\u001b[39m     \u001b[38;5;28;43msuper\u001b[39;49m\u001b[43m(\u001b[49m\u001b[43m)\u001b[49m\u001b[43m.\u001b[49m\u001b[34;43m__init__\u001b[39;49m\u001b[43m(\u001b[49m\u001b[43mname\u001b[49m\u001b[43m)\u001b[49m\n",
      "\u001b[31mTypeError\u001b[39m: Animal.__init__() missing 1 required positional argument: 'origin'"
     ]
    }
   ],
   "source": [
    "class Animal:\n",
    "    def __init__(self, name, origin):\n",
    "        self.name = name\n",
    "        self.origin = origin\n",
    "\n",
    "    def display_Animal(self):\n",
    "        print(f'Animal Name: {self.name} # Showing from Animal class')\n",
    "        \n",
    "class Dog(Animal):\n",
    "    def __init__(self, name, origin):\n",
    "        super().__init__(name)  # Initialize the parent class\n",
    "        \n",
    "    def display(self):\n",
    "        super().display_Animal()  # Call the parent method\n",
    "        print(f'Animal Name: {self.name} # Showing from Dog class')\n",
    "\n",
    "Dog_1 = Dog('Tommy', 'Germany')\n",
    "Dog_1.display()\n"
   ]
  },
  {
   "cell_type": "code",
   "execution_count": 54,
   "id": "43bc595a",
   "metadata": {},
   "outputs": [
    {
     "name": "stdout",
     "output_type": "stream",
     "text": [
      "Animal Name: Tommy # Showing from Animal class\n",
      "Animal Name: Tommy # Showing from Dog class\n"
     ]
    }
   ],
   "source": [
    "class Animal:\n",
    "    def __init__(self, name, origin):\n",
    "        self.name = name\n",
    "        self.origin = origin\n",
    "\n",
    "    def display_Animal(self):\n",
    "        print(f'Animal Name: {self.name} # Showing from Animal class')\n",
    "        \n",
    "class Dog(Animal):\n",
    "    def __init__(self, name, origin):\n",
    "        super().__init__(name, origin)  # Initialize the parent class\n",
    "        \n",
    "    def display(self):\n",
    "        super().display_Animal()  # Call the parent method\n",
    "        print(f'Animal Name: {self.name} # Showing from Dog class')\n",
    "\n",
    "Dog_1 = Dog('Tommy', 'Germany')\n",
    "Dog_1.display()\n"
   ]
  },
  {
   "cell_type": "code",
   "execution_count": 55,
   "id": "831dd9b6",
   "metadata": {},
   "outputs": [
    {
     "name": "stdout",
     "output_type": "stream",
     "text": [
      "Animal Name: Tommy # Showing from Animal class\n",
      "Animal Name: Tommy # Showing from Dog class\n"
     ]
    }
   ],
   "source": [
    "class Animal:\n",
    "    def __init__(self, name, origin):\n",
    "        self.name = name\n",
    "        self.origin = origin\n",
    "\n",
    "    def display_Animal(self):\n",
    "        print(f'Animal Name: {self.name} # Showing from Animal class')\n",
    "        \n",
    "class Dog(Animal):\n",
    "    def __init__(self, name, origin):\n",
    "        super().__init__(name, origin)  # Initialize the parent class\n",
    "        self.origin = origin\n",
    "        \n",
    "    def display(self):\n",
    "        super().display_Animal()  # Call the parent method\n",
    "        print(f'Animal Name: {self.name} # Showing from Dog class')\n",
    "\n",
    "Dog_1 = Dog('Tommy', 'Germany')\n",
    "Dog_1.display()\n"
   ]
  },
  {
   "cell_type": "code",
   "execution_count": null,
   "id": "c338860e",
   "metadata": {},
   "outputs": [
    {
     "ename": "TypeError",
     "evalue": "Animal.__init__() missing 1 required positional argument: 'origin'",
     "output_type": "error",
     "traceback": [
      "\u001b[31m---------------------------------------------------------------------------\u001b[39m",
      "\u001b[31mTypeError\u001b[39m                                 Traceback (most recent call last)",
      "\u001b[36mCell\u001b[39m\u001b[36m \u001b[39m\u001b[32mIn[56]\u001b[39m\u001b[32m, line 18\u001b[39m\n\u001b[32m     15\u001b[39m         \u001b[38;5;28msuper\u001b[39m().display_Animal()  \u001b[38;5;66;03m# Call the parent method\u001b[39;00m\n\u001b[32m     16\u001b[39m         \u001b[38;5;28mprint\u001b[39m(\u001b[33mf\u001b[39m\u001b[33m'\u001b[39m\u001b[33mAnimal Name: \u001b[39m\u001b[38;5;132;01m{\u001b[39;00m\u001b[38;5;28mself\u001b[39m.name\u001b[38;5;132;01m}\u001b[39;00m\u001b[33m # Showing from Dog class\u001b[39m\u001b[33m'\u001b[39m)\n\u001b[32m---> \u001b[39m\u001b[32m18\u001b[39m Dog_1 = \u001b[43mDog\u001b[49m\u001b[43m(\u001b[49m\u001b[33;43m'\u001b[39;49m\u001b[33;43mTommy\u001b[39;49m\u001b[33;43m'\u001b[39;49m\u001b[43m,\u001b[49m\u001b[43m \u001b[49m\u001b[33;43m'\u001b[39;49m\u001b[33;43mGermany\u001b[39;49m\u001b[33;43m'\u001b[39;49m\u001b[43m)\u001b[49m\n\u001b[32m     19\u001b[39m Dog_1.display()\n",
      "\u001b[36mCell\u001b[39m\u001b[36m \u001b[39m\u001b[32mIn[56]\u001b[39m\u001b[32m, line 11\u001b[39m, in \u001b[36mDog.__init__\u001b[39m\u001b[34m(self, name, origin)\u001b[39m\n\u001b[32m     10\u001b[39m \u001b[38;5;28;01mdef\u001b[39;00m\u001b[38;5;250m \u001b[39m\u001b[34m__init__\u001b[39m(\u001b[38;5;28mself\u001b[39m, name, origin):\n\u001b[32m---> \u001b[39m\u001b[32m11\u001b[39m     \u001b[38;5;28;43msuper\u001b[39;49m\u001b[43m(\u001b[49m\u001b[43m)\u001b[49m\u001b[43m.\u001b[49m\u001b[34;43m__init__\u001b[39;49m\u001b[43m(\u001b[49m\u001b[43mname\u001b[49m\u001b[43m)\u001b[49m  \u001b[38;5;66;03m# Initialize the parent class\u001b[39;00m\n\u001b[32m     12\u001b[39m     \u001b[38;5;28mself\u001b[39m.origin = origin\n",
      "\u001b[31mTypeError\u001b[39m: Animal.__init__() missing 1 required positional argument: 'origin'"
     ]
    }
   ],
   "source": [
    "class Animal:\n",
    "    def __init__(self, name, origin):\n",
    "        self.name = name\n",
    "        self.origin = origin\n",
    "\n",
    "    def display_Animal(self):\n",
    "        print(f'Animal Name: {self.name} # Showing from Animal class')\n",
    "        \n",
    "class Dog(Animal):\n",
    "    def __init__(self, name, origin):\n",
    "        super().__init__(name)  # Initialize the parent class\n",
    "        self.origin = origin\n",
    "        \n",
    "    def display(self):\n",
    "        super().display_Animal()  # Call the parent method\n",
    "        print(f'Animal Name: {self.name} # Showing from Dog class')\n",
    "\n",
    "Dog_1 = Dog('Tommy', 'Germany')\n",
    "Dog_1.display()\n"
   ]
  },
  {
   "cell_type": "code",
   "execution_count": 62,
   "id": "2165bf50",
   "metadata": {},
   "outputs": [
    {
     "name": "stdout",
     "output_type": "stream",
     "text": [
      "Product: Laptop, Price: 1500\n",
      "Supplier Code: SUPP123\n",
      "Product: Laptop, Price: 1500\n",
      "Supplier Code: Access Denied: You are not authorized to view supplier code.\n"
     ]
    }
   ],
   "source": [
    "class Product:\n",
    "    def __init__(self, name, price, supplier_code):\n",
    "        self.name = name\n",
    "        self._price = price\n",
    "        self.__supplier_code = supplier_code  # Private attribute\n",
    "\n",
    "    # Controlled access method\n",
    "    def get_supplier_code(self, user_role):\n",
    "        if user_role.lower() == \"admin\":\n",
    "            return self.__supplier_code\n",
    "        else:\n",
    "            return \"Access Denied: You are not authorized to view supplier code.\"\n",
    "\n",
    "class Admin(Product):\n",
    "    def show_details(self):\n",
    "        print(f\"Product: {self.name}, Price: {self._price}\")\n",
    "        print(\"Supplier Code:\", self.get_supplier_code(\"admin\"))  # ✅ Admin access\n",
    "\n",
    "class Customer(Product):\n",
    "    def view_details(self):\n",
    "        print(f\"Product: {self.name}, Price: {self._price}\")\n",
    "        print(\"Supplier Code:\", self.get_supplier_code(\"customer\"))  # ❌ Denied\n",
    "\n",
    "# Creating objects\n",
    "admin_user = Admin(\"Laptop\", 1500, \"SUPP123\")\n",
    "customer_user = Customer(\"Laptop\", 1500, \"SUPP123\")\n",
    "\n",
    "# Admin can see supplier code\n",
    "admin_user.show_details()\n",
    "\n",
    "# Customer cannot see supplier code\n",
    "customer_user.view_details()\n"
   ]
  },
  {
   "cell_type": "code",
   "execution_count": 63,
   "id": "81676397",
   "metadata": {},
   "outputs": [
    {
     "name": "stdout",
     "output_type": "stream",
     "text": [
      "\n",
      "--- Public Drawer Access ---\n",
      "Cash in drawer: 1000\n",
      "Cash after direct withdrawal: 800\n",
      "\n",
      "--- Private Vault Access (Direct) ---\n",
      "Cannot access vault directly (AttributeError)\n",
      "Forced vault access (not recommended): 10000\n",
      "\n",
      "--- Controlled Vault Access ---\n",
      "Access Denied: Only managers can access the vault\n",
      "Access Granted: Withdrawn $5000 from vault\n",
      "Vault balance (manager view): 5000\n"
     ]
    }
   ],
   "source": [
    "class Bank:\n",
    "    def __init__(self, initial_cash):\n",
    "        # Public drawer (anyone can touch)\n",
    "        self.cash_in_drawer = initial_cash  \n",
    "        \n",
    "        # Private vault (locked)\n",
    "        self.__vault_cash = initial_cash * 10  \n",
    "\n",
    "    # Controlled access to vault\n",
    "    def access_vault(self, employee_role, amount):\n",
    "        if employee_role.lower() == \"manager\":\n",
    "            print(f\"Access Granted: Withdrawn ${amount} from vault\")\n",
    "            self.__vault_cash -= amount\n",
    "        else:\n",
    "            print(\"Access Denied: Only managers can access the vault\")\n",
    "\n",
    "    # View vault balance (no direct access)\n",
    "    def get_vault_balance(self, employee_role):\n",
    "        if employee_role.lower() == \"manager\":\n",
    "            return self.__vault_cash\n",
    "        else:\n",
    "            return \"Access Denied\"\n",
    "\n",
    "# Creating bank object\n",
    "bank = Bank(1000)\n",
    "\n",
    "# ✅ Public drawer (any employee can take money)\n",
    "print(\"\\n--- Public Drawer Access ---\")\n",
    "print(\"Cash in drawer:\", bank.cash_in_drawer)\n",
    "bank.cash_in_drawer -= 200  # Employee directly changes it\n",
    "print(\"Cash after direct withdrawal:\", bank.cash_in_drawer)\n",
    "\n",
    "# ❌ Trying to access private vault directly\n",
    "print(\"\\n--- Private Vault Access (Direct) ---\")\n",
    "try:\n",
    "    print(bank.__vault_cash)\n",
    "except AttributeError:\n",
    "    print(\"Cannot access vault directly (AttributeError)\")\n",
    "\n",
    "# ⚠️ Force access with name mangling (not safe)\n",
    "print(\"Forced vault access (not recommended):\", bank._Bank__vault_cash)\n",
    "\n",
    "# ✅ Proper controlled access using methods\n",
    "print(\"\\n--- Controlled Vault Access ---\")\n",
    "bank.access_vault(\"staff\", 5000)    # Staff cannot access\n",
    "bank.access_vault(\"manager\", 5000)  # Manager can access\n",
    "print(\"Vault balance (manager view):\", bank.get_vault_balance(\"manager\"))\n"
   ]
  },
  {
   "cell_type": "code",
   "execution_count": 1,
   "id": "c820ffe3",
   "metadata": {},
   "outputs": [
    {
     "name": "stdout",
     "output_type": "stream",
     "text": [
      "Balance: ₹1000\n",
      "Balance: ₹1500\n"
     ]
    }
   ],
   "source": [
    "class BankAccount:\n",
    "    def __init__(self):\n",
    "        self.balance = 1000\n",
    "\n",
    "    def _show_balance(self):\n",
    "        print(f\"Balance: ₹{self.balance}\")  # Protected method\n",
    "\n",
    "    def __update_balance(self, amount):\n",
    "        self.balance += amount             # Private method\n",
    "\n",
    "    def deposit(self, amount):\n",
    "        if amount > 0:\n",
    "            self.__update_balance(amount)  # Accessing private method internally\n",
    "            self._show_balance()           # Accessing protected method\n",
    "        else:\n",
    "            print(\"Invalid deposit amount!\")\n",
    "            \n",
    "account = BankAccount()\n",
    "account._show_balance()      # Works, but should be treated as internal\n",
    "# account.__update_balance(500)  # Error: private method\n",
    "account.deposit(500)         # Uses both methods internally"
   ]
  },
  {
   "cell_type": "code",
   "execution_count": null,
   "id": "08e4d509",
   "metadata": {},
   "outputs": [],
   "source": []
  }
 ],
 "metadata": {
  "kernelspec": {
   "display_name": "Python 3",
   "language": "python",
   "name": "python3"
  },
  "language_info": {
   "codemirror_mode": {
    "name": "ipython",
    "version": 3
   },
   "file_extension": ".py",
   "mimetype": "text/x-python",
   "name": "python",
   "nbconvert_exporter": "python",
   "pygments_lexer": "ipython3",
   "version": "3.13.3"
  }
 },
 "nbformat": 4,
 "nbformat_minor": 5
}
