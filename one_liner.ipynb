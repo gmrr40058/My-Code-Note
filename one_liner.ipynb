{
 "cells": [
  {
   "cell_type": "code",
   "execution_count": null,
   "id": "de49f04d",
   "metadata": {},
   "outputs": [],
   "source": []
  },
  {
   "cell_type": "code",
   "execution_count": 1,
   "id": "b56cae1f",
   "metadata": {},
   "outputs": [
    {
     "name": "stdout",
     "output_type": "stream",
     "text": [
      "[0, 1, 2, 3, 4, 5, 6, 7, 8, 9]\n"
     ]
    }
   ],
   "source": [
    "newlist = [x for x in range(10)]\n",
    "print(newlist)"
   ]
  },
  {
   "cell_type": "code",
   "execution_count": 2,
   "id": "c15362a9",
   "metadata": {},
   "outputs": [
    {
     "name": "stdout",
     "output_type": "stream",
     "text": [
      "['APPLE', 'BANANA', 'CHERRY']\n"
     ]
    }
   ],
   "source": [
    "fruits = ['apple', 'banana', 'cherry']\n",
    "newlist = [x.upper() for x in fruits]\n",
    "print(newlist)"
   ]
  },
  {
   "cell_type": "code",
   "execution_count": 3,
   "id": "c014804a",
   "metadata": {},
   "outputs": [
    {
     "ename": "SyntaxError",
     "evalue": "invalid syntax (2481665576.py, line 1)",
     "output_type": "error",
     "traceback": [
      "\u001b[1;36m  Cell \u001b[1;32mIn[3], line 1\u001b[1;36m\u001b[0m\n\u001b[1;33m    print([x for x in fruits if x != 'banana' else 'orange'])\u001b[0m\n\u001b[1;37m                                              ^\u001b[0m\n\u001b[1;31mSyntaxError\u001b[0m\u001b[1;31m:\u001b[0m invalid syntax\n"
     ]
    }
   ],
   "source": [
    "print([x for x in fruits if x != 'banana' else 'orange'])"
   ]
  },
  {
   "cell_type": "markdown",
   "id": "6c4d8c30",
   "metadata": {},
   "source": [
    "This is not valid syntax because the **else** here doesn’t belong in an **if** filter in a list comprehension. In a list comprehension:\n",
    "\n",
    "* A filter clause looks like:<br>\n",
    "    [x for x in fruits if condition]<br><br>\n",
    "* A conditional expression (i.e. an inline if-else) looks like:<br>\n",
    "    [value_if_true if condition else value_if_false for x in fruits]\n"
   ]
  },
  {
   "cell_type": "code",
   "execution_count": null,
   "id": "02009581",
   "metadata": {},
   "outputs": [
    {
     "name": "stdout",
     "output_type": "stream",
     "text": [
      "['apple', 'orange', 'cherry']\n"
     ]
    }
   ],
   "source": [
    "print([x if x != 'banana' else 'orange' for x in fruits])"
   ]
  },
  {
   "cell_type": "markdown",
   "id": "49d3626e",
   "metadata": {},
   "source": [
    "[x if x != 'banana' else 'orange' for x in fruits]\n",
    "\n",
    "This representation is called **a list comprehension** that contains a conditional expression (sometimes informally called a “ternary operator”).\n",
    "* List comprehension → the whole structure that produces a list in a single, concise expression.\n",
    "* Conditional expression (ternary operator) → the part:<br>\n",
    "    value_if_true if condition else value_if_false\n",
    "\n",
    "So the official names are:\n",
    "\n",
    "✅ List comprehension — the [ ... for ... in ... ] syntax that builds a list.<br>\n",
    "✅ Conditional expression (or ternary conditional operator) — the a if condition else b part inside it."
   ]
  }
 ],
 "metadata": {
  "kernelspec": {
   "display_name": "base",
   "language": "python",
   "name": "python3"
  },
  "language_info": {
   "codemirror_mode": {
    "name": "ipython",
    "version": 3
   },
   "file_extension": ".py",
   "mimetype": "text/x-python",
   "name": "python",
   "nbconvert_exporter": "python",
   "pygments_lexer": "ipython3",
   "version": "3.13.5"
  }
 },
 "nbformat": 4,
 "nbformat_minor": 5
}
