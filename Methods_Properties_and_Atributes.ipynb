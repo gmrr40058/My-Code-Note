{
 "cells": [
  {
   "cell_type": "code",
   "execution_count": 1,
   "id": "954e8ff0",
   "metadata": {},
   "outputs": [
    {
     "name": "stdout",
     "output_type": "stream",
     "text": [
      "Toyota\n"
     ]
    }
   ],
   "source": [
    "class Car:\n",
    "    def __init__(self, brand):\n",
    "        self._brand = brand\n",
    "\n",
    "    @property\n",
    "    def brand(self):  # Property\n",
    "        return self._brand\n",
    "\n",
    "car = Car(\"Toyota\")\n",
    "print(car.brand)  # ✅ Access without parentheses\n"
   ]
  },
  {
   "cell_type": "code",
   "execution_count": 2,
   "id": "8fe7e229",
   "metadata": {},
   "outputs": [
    {
     "name": "stdout",
     "output_type": "stream",
     "text": [
      "Toyota\n"
     ]
    }
   ],
   "source": [
    "class Car:\n",
    "    def __init__(self, brand):\n",
    "        self._brand = brand\n",
    "\n",
    "    @property\n",
    "    def brand(self):  # Property\n",
    "        print(self._brand)\n",
    "\n",
    "car = Car(\"Toyota\")\n",
    "car.brand  # ✅ Access without parentheses\n"
   ]
  },
  {
   "cell_type": "markdown",
   "id": "152d0fd8",
   "metadata": {},
   "source": [
    "#### Difference between Methods and Properties\n",
    "##### 1. Initial Code → You create a class with a normal attribute:"
   ]
  },
  {
   "cell_type": "code",
   "execution_count": null,
   "id": "2cee3d32",
   "metadata": {},
   "outputs": [
    {
     "name": "stdout",
     "output_type": "stream",
     "text": [
      "Reza\n"
     ]
    }
   ],
   "source": [
    "class Person:\n",
    "    def __init__(self, name):\n",
    "        self.name = name\n",
    "\n",
    "p = Person(\"Reza\")\n",
    "print(p.name)  # Output: Reza"
   ]
  },
  {
   "cell_type": "markdown",
   "id": "beca2499",
   "metadata": {},
   "source": [
    "* Everything is simple; you just access p.name.\n",
    "\n",
    "##### 2. Later Change → You realize you need to always show the name in uppercase.\n",
    "Without a property, you must remove the attribute and create a method:"
   ]
  },
  {
   "cell_type": "code",
   "execution_count": 4,
   "id": "72fb0841",
   "metadata": {},
   "outputs": [
    {
     "name": "stdout",
     "output_type": "stream",
     "text": [
      "REZA\n"
     ]
    }
   ],
   "source": [
    "class Person:\n",
    "    def __init__(self, name):\n",
    "        self._name = name\n",
    "\n",
    "    def get_name(self):  # New method\n",
    "        return self._name.upper()\n",
    "\n",
    "p = Person(\"Reza\")\n",
    "print(p.get_name())  # You must change all code that used 'p.name'"
   ]
  },
  {
   "cell_type": "markdown",
   "id": "1b7bbb49",
   "metadata": {},
   "source": [
    "##### 3. Problem →\n",
    "\n",
    "If your project is big, you must change every place where you used p.name → now must call p.get_name().\n",
    "\n",
    "This breaks old code.\n",
    "\n",
    "##### 4. With Property (Solution) →"
   ]
  },
  {
   "cell_type": "code",
   "execution_count": 5,
   "id": "04d9fb11",
   "metadata": {},
   "outputs": [
    {
     "name": "stdout",
     "output_type": "stream",
     "text": [
      "REZA\n"
     ]
    }
   ],
   "source": [
    "class Person:\n",
    "    def __init__(self, name):\n",
    "        self._name = name\n",
    "\n",
    "    @property\n",
    "    def name(self):  # Property\n",
    "        return self._name.upper()\n",
    "\n",
    "p = Person(\"Reza\")\n",
    "print(p.name)  # ✅ Still \"looks like\" an attribute\n"
   ]
  },
  {
   "cell_type": "markdown",
   "id": "b22464aa",
   "metadata": {},
   "source": [
    "* You added extra logic (uppercase),\n",
    "\n",
    "* But you did NOT change how you access it → it’s still p.name, not p.get_name().\n",
    "\n",
    "* Your old code still works without modifications."
   ]
  }
 ],
 "metadata": {
  "kernelspec": {
   "display_name": "Python 3",
   "language": "python",
   "name": "python3"
  },
  "language_info": {
   "codemirror_mode": {
    "name": "ipython",
    "version": 3
   },
   "file_extension": ".py",
   "mimetype": "text/x-python",
   "name": "python",
   "nbconvert_exporter": "python",
   "pygments_lexer": "ipython3",
   "version": "3.13.3"
  }
 },
 "nbformat": 4,
 "nbformat_minor": 5
}
