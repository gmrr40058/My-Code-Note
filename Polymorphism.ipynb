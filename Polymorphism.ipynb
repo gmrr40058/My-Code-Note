{
 "cells": [
  {
   "cell_type": "code",
   "execution_count": null,
   "id": "e17a22f8",
   "metadata": {},
   "outputs": [],
   "source": [
    "class Pen:\n",
    "    def use(self):\n",
    "        return \"Writing\"\n",
    "\n",
    "class Eraser:\n",
    "    def use(self):\n",
    "        return \"Erasing\"\n",
    "\n",
    "def perform_task(tool):\n",
    "    print(tool.use())\n",
    "\n",
    "perform_task(Pen())\n",
    "perform_task(Eraser())"
   ]
  },
  {
   "cell_type": "markdown",
   "id": "73ee41c2",
   "metadata": {},
   "source": [
    "#### Dock Typing"
   ]
  },
  {
   "cell_type": "code",
   "execution_count": null,
   "id": "dd15d78a",
   "metadata": {},
   "outputs": [],
   "source": []
  }
 ],
 "metadata": {
  "language_info": {
   "name": "python"
  }
 },
 "nbformat": 4,
 "nbformat_minor": 5
}
