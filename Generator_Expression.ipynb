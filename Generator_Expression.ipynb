{
 "cells": [
  {
   "cell_type": "markdown",
   "id": "afd1ba2a-4d73-4598-8c36-bbedd7232c2e",
   "metadata": {},
   "source": [
    "<h1> What is a Generator Expression? </h1>\n",
    "A generator expression looks almost like a list comprehension, but:\n",
    "\n",
    "<ul>\n",
    "    <li>It <b>does not create a list in memory</b>.</li>\n",
    "    <li>Instead, it<b> yields one value at a time</b> as you loop over it.</li>\n",
    "</ul>\n",
    "So it’s more <b>memory-efficient</b> than building big lists."
   ]
  },
  {
   "cell_type": "markdown",
   "id": "9b907a4a-4361-4a23-a1b9-d577c8eb0771",
   "metadata": {},
   "source": [
    "<h2>1. Example vs. List Comprehension</h2>\n",
    "<h3>1.1 List Comprehension</h3>\n",
    "This <b>creates a list:</b>"
   ]
  },
  {
   "cell_type": "code",
   "execution_count": 24,
   "id": "3ca4b7f9-d4a6-44ea-adab-59a2bf5e577f",
   "metadata": {},
   "outputs": [
    {
     "name": "stdout",
     "output_type": "stream",
     "text": [
      "[0, 1, 4, 9, 16]\n"
     ]
    }
   ],
   "source": [
    "squares = [x * x for x in range(5)]\n",
    "print(squares)"
   ]
  },
  {
   "cell_type": "markdown",
   "id": "cc138429-9257-4b5c-a17d-bafc7f5b0c15",
   "metadata": {},
   "source": [
    "Memory stores the entire list [0, 1, 4, 9, 16]."
   ]
  },
  {
   "cell_type": "markdown",
   "id": "cf377e09-0e7b-4cce-b6f8-e5acd0cc112c",
   "metadata": {},
   "source": [
    "<h3>1.2 Generator Expression</h3>\n",
    "This <b>does NOT create a list.</b>\n",
    "\n",
    "Instead:"
   ]
  },
  {
   "cell_type": "code",
   "execution_count": 25,
   "id": "58362bab-61a4-45f3-83c0-8aa9514a7cd1",
   "metadata": {},
   "outputs": [
    {
     "name": "stdout",
     "output_type": "stream",
     "text": [
      "<generator object <genexpr> at 0x000001A2C33D53C0>\n"
     ]
    }
   ],
   "source": [
    "squares = (x * x for x in range(5))\n",
    "print(squares)"
   ]
  },
  {
   "cell_type": "markdown",
   "id": "4938d939-abb6-4874-9550-29bbb56f09e5",
   "metadata": {},
   "source": [
    "It’s an object that <b>generates values on demand.</b><br>\n",
    "To get the numbers, you must <b>loop</b>:"
   ]
  },
  {
   "cell_type": "code",
   "execution_count": 26,
   "id": "ca052fcd-c372-46c8-9641-b56d0695de48",
   "metadata": {
    "scrolled": true
   },
   "outputs": [
    {
     "name": "stdout",
     "output_type": "stream",
     "text": [
      "0\n",
      "1\n",
      "4\n",
      "9\n",
      "16\n"
     ]
    }
   ],
   "source": [
    "for n in squares:\n",
    "    print(n)"
   ]
  },
  {
   "cell_type": "markdown",
   "id": "259f1271-7031-4328-9a79-3fb4b29c5128",
   "metadata": {},
   "source": [
    "<h4>You can generae the values only once</h4>\n",
    "Which means if we generate the value of a generator once we can not generate it again."
   ]
  },
  {
   "cell_type": "code",
   "execution_count": 27,
   "id": "bb8fbee0-a0af-45f4-89db-101a5bd99782",
   "metadata": {},
   "outputs": [],
   "source": [
    "for n in squares:\n",
    "    print(n)"
   ]
  },
  {
   "cell_type": "markdown",
   "id": "b7cebb06-0341-4c18-af7e-ced812aff09c",
   "metadata": {},
   "source": [
    "Here no value is comming as we have alredy generated the value of the generator above at line 5. Let's take an another example,"
   ]
  },
  {
   "cell_type": "code",
   "execution_count": 28,
   "id": "08d87a8a-7262-46d6-8df9-d894ef94dcb9",
   "metadata": {},
   "outputs": [
    {
     "name": "stdout",
     "output_type": "stream",
     "text": [
      "[0, 1, 8, 27, 64]\n"
     ]
    }
   ],
   "source": [
    "cube = [pow(x,3) for x in range(5)]\n",
    "\n",
    "print(cube)"
   ]
  },
  {
   "cell_type": "code",
   "execution_count": 29,
   "id": "6e840eca-ea3b-42d3-97a1-960018cc96d7",
   "metadata": {},
   "outputs": [
    {
     "name": "stdout",
     "output_type": "stream",
     "text": [
      "0\n"
     ]
    }
   ],
   "source": [
    "cube = (pow(x,3) for x in range(5))\n",
    "\n",
    "print(next(cube))"
   ]
  },
  {
   "cell_type": "code",
   "execution_count": 30,
   "id": "5ad65962-43be-44d0-a97d-8a6bfe18222d",
   "metadata": {},
   "outputs": [
    {
     "name": "stdout",
     "output_type": "stream",
     "text": [
      "1\n"
     ]
    }
   ],
   "source": [
    "print(next(cube))"
   ]
  },
  {
   "cell_type": "code",
   "execution_count": 31,
   "id": "828ebd64-2ea9-4bb2-8fe9-ba9fef5939e0",
   "metadata": {},
   "outputs": [
    {
     "name": "stdout",
     "output_type": "stream",
     "text": [
      "8\n"
     ]
    }
   ],
   "source": [
    "print(next(cube))"
   ]
  },
  {
   "cell_type": "code",
   "execution_count": 32,
   "id": "a3f7a220-140e-4088-b257-f450923c4367",
   "metadata": {},
   "outputs": [
    {
     "name": "stdout",
     "output_type": "stream",
     "text": [
      "27\n",
      "64\n"
     ]
    }
   ],
   "source": [
    "for n in cube:\n",
    "    print(n)"
   ]
  },
  {
   "cell_type": "markdown",
   "id": "3c21ce12-2e7a-48ae-befc-df9a030fc1a9",
   "metadata": {},
   "source": [
    " See the difference with line 14,5,3"
   ]
  },
  {
   "cell_type": "code",
   "execution_count": 33,
   "id": "faf1c426-3068-43e5-99b3-30c44dcc6fe1",
   "metadata": {},
   "outputs": [],
   "source": [
    "for n in cube:\n",
    "    print(n)"
   ]
  },
  {
   "cell_type": "markdown",
   "id": "c2ee8363-9e16-4137-b177-3724576677e0",
   "metadata": {},
   "source": [
    "<h3>➤ How Does It Save Memory?</h3>\n",
    "Imagine you want squares of the first million numbers:<br>\n",
    "✅ With generator:"
   ]
  },
  {
   "cell_type": "code",
   "execution_count": 34,
   "id": "3904989b-79f6-4932-851a-32826d9fe62c",
   "metadata": {},
   "outputs": [],
   "source": [
    "big_gen = (x*x for x in range(1_000_000))"
   ]
  },
  {
   "cell_type": "markdown",
   "id": "06db231e-063a-4112-a58b-79672553ed40",
   "metadata": {},
   "source": [
    "<ul><li>Takes almost no memory until you loop over it.</li></ul>\n",
    "⛔ With list:"
   ]
  },
  {
   "cell_type": "code",
   "execution_count": 35,
   "id": "edcaed29-1969-4e3c-aebc-ee890d1798df",
   "metadata": {},
   "outputs": [],
   "source": [
    "big_list = [x*x for x in range(1_000_000)]"
   ]
  },
  {
   "cell_type": "markdown",
   "id": "c6ca3c06-e58a-425e-bae4-773a4706b7a8",
   "metadata": {},
   "source": [
    "<ul><li>Loads a huge list into memory immediately.</li></ul>"
   ]
  },
  {
   "cell_type": "markdown",
   "id": "ebdb19f2-bd71-452b-8930-6c1b0453193e",
   "metadata": {},
   "source": [
    "<h2>2. Using sum(...) with Generators</h2>\n",
    "This is why we often combine generators with functions like sum(). For example:"
   ]
  },
  {
   "cell_type": "code",
   "execution_count": 36,
   "id": "dc667dd0-46da-4172-95de-5db84895d798",
   "metadata": {},
   "outputs": [
    {
     "name": "stdout",
     "output_type": "stream",
     "text": [
      "30\n"
     ]
    }
   ],
   "source": [
    "total = sum(x*x for x in range(5))\n",
    "print(total)"
   ]
  },
  {
   "cell_type": "markdown",
   "id": "3dc577a2-7d4e-4034-ba4d-448b59244e7d",
   "metadata": {},
   "source": [
    "<ul>\n",
    "    <li>No list stored in memory.</li>\n",
    "    <li>Generator feeds numbers directly into sum().</li>\n",
    "</ul>"
   ]
  },
  {
   "cell_type": "markdown",
   "id": "9e553785-524f-45bd-afb5-da92c43eecb2",
   "metadata": {},
   "source": [
    "<h2>3. Syntax of Generator Expressions</h2>\n",
    "General form:\n",
    "\n",
    "**(expression for item in iterable if condition)**"
   ]
  },
  {
   "cell_type": "markdown",
   "id": "edc7e878-a1bf-4f2d-9fb8-91c390382c7a",
   "metadata": {},
   "source": [
    "Example:"
   ]
  },
  {
   "cell_type": "code",
   "execution_count": null,
   "id": "5cfdc03c-7146-4a84-80dc-9584e097a97f",
   "metadata": {},
   "outputs": [
    {
     "data": {
      "text/plain": [
       "<generator object <genexpr> at 0x000001AF07EB8450>"
      ]
     },
     "execution_count": 6,
     "metadata": {},
     "output_type": "execute_result"
    }
   ],
   "source": [
    "(x for x in range(10) if x % 2 == 0)"
   ]
  },
  {
   "cell_type": "markdown",
   "id": "82d31ca6-587e-4e59-bc20-ec3a81171700",
   "metadata": {},
   "source": [
    "Generates:\n",
    "0, 2, 4, 6, 8"
   ]
  },
  {
   "cell_type": "markdown",
   "id": "1240e961-92ec-48ff-9a45-6e94e507459e",
   "metadata": {},
   "source": [
    "## 4. ✅ Functions That Support Generator Expressions\n",
    "\n",
    "A generator expression is just a way to produce values one at a time “on demand.” Any function that can accept an iterable as input can accept a generator expression.\n",
    "\n",
    "Here’s a list of commonly used functions that support generator expressions (i.e. accept an iterable):\n",
    "### 4.1 Aggregation Functions\n",
    "\n",
    "These consume an iterable to produce a single result:\n",
    "\n",
    "| Function        | Description                       |\n",
    "|-----------------|-----------------------------------|\n",
    "| `sum()`         | Adds numbers                      |\n",
    "| `min()`         | Finds the smallest value          |\n",
    "| `max()`         | Finds the largest value           |\n",
    "| `any()`         | True if any item is true          |\n",
    "| `all()`         | True if all items are true        |\n",
    "| `math.prod()`   | Product of items (Python 3.8+)    |\n",
    "##### Example"
   ]
  },
  {
   "cell_type": "code",
   "execution_count": null,
   "id": "aaf8853c-2ae2-4be0-b253-70f41d30f041",
   "metadata": {},
   "outputs": [
    {
     "name": "stdout",
     "output_type": "stream",
     "text": [
      "14\n"
     ]
    }
   ],
   "source": [
    "total = sum(x**2 for x in [1,2,3])\n",
    "print(total)"
   ]
  },
  {
   "cell_type": "code",
   "execution_count": null,
   "id": "bfb1d1ba-5f88-401c-8c9f-f7377af109fa",
   "metadata": {},
   "outputs": [
    {
     "name": "stdout",
     "output_type": "stream",
     "text": [
      "1\n"
     ]
    }
   ],
   "source": [
    "print(min(x for x in [1,2,3]))"
   ]
  },
  {
   "cell_type": "code",
   "execution_count": null,
   "id": "7b5158a6-a68e-4567-8b83-75db6e747a96",
   "metadata": {
    "scrolled": true
   },
   "outputs": [
    {
     "name": "stdout",
     "output_type": "stream",
     "text": [
      "3\n"
     ]
    }
   ],
   "source": [
    "print(max(x for x in [1,2,3]))"
   ]
  },
  {
   "cell_type": "code",
   "execution_count": null,
   "id": "2f3ddb34-a181-4473-8b70-2fb1bd5cae0a",
   "metadata": {
    "scrolled": true
   },
   "outputs": [
    {
     "name": "stdout",
     "output_type": "stream",
     "text": [
      "True\n",
      "True\n",
      "True\n",
      "True\n",
      "False\n"
     ]
    }
   ],
   "source": [
    "print(any(x for x in [1,2,3])) #any numner accecpt 0 means true\n",
    "print(any(x for x in [0,2,3]))\n",
    "print(any(x for x in [1,0,0]))\n",
    "print(any(x for x in [-1,0,0]))\n",
    "print(any(x for x in [0,0,0]))"
   ]
  },
  {
   "cell_type": "code",
   "execution_count": null,
   "id": "68ee7ef4-db30-414c-b10e-dfc9bbcb4c93",
   "metadata": {
    "scrolled": true
   },
   "outputs": [
    {
     "name": "stdout",
     "output_type": "stream",
     "text": [
      "True\n",
      "False\n",
      "False\n",
      "False\n"
     ]
    }
   ],
   "source": [
    "print(all(x for x in [1,2,3]))\n",
    "print(all(x for x in [0,2,3]))\n",
    "print(all(x for x in [1,0,0]))\n",
    "print(all(x for x in [0,0,0]))"
   ]
  },
  {
   "cell_type": "code",
   "execution_count": null,
   "id": "6b6f8fb9-0828-473b-a9f8-3a3acee14435",
   "metadata": {
    "scrolled": true
   },
   "outputs": [
    {
     "name": "stdout",
     "output_type": "stream",
     "text": [
      "6\n"
     ]
    }
   ],
   "source": [
    "import math\n",
    "print(math.prod(x for x in [1,2,3]))"
   ]
  },
  {
   "cell_type": "markdown",
   "id": "3ffb65ac-f715-4a2f-ad05-66468f311e44",
   "metadata": {},
   "source": [
    "### 4.2 List/Set/Dict Constructors\n",
    "\n",
    "Convert generator expressions into different data structures:\n",
    "\n",
    "| Function      | Description                              |\n",
    "|---------------|------------------------------------------|\n",
    "| `list()`      | Converts to a list                       |\n",
    "| `set()`       | Converts to a set                        |\n",
    "| `dict()`      | Converts to a dictionary (key-value pairs) |\n",
    "| `tuple()`     | Converts to a tuple                      |\n",
    "\n",
    "##### Example"
   ]
  },
  {
   "cell_type": "code",
   "execution_count": null,
   "id": "8b861027-c896-479e-b3b2-28b5c6a8cbf2",
   "metadata": {},
   "outputs": [
    {
     "name": "stdout",
     "output_type": "stream",
     "text": [
      "[0, 1, 4, 9, 16] \n",
      " (0, 1, 4, 9, 16) \n",
      " {0, 1, 4, 9, 16}\n"
     ]
    }
   ],
   "source": [
    "lst = list(x**2 for x in range(5))\n",
    "tup = tuple(x**2 for x in range(5))\n",
    "st = set(x**2 for x in range(5))\n",
    "#dic = dict(x**2 for x in range(5))\n",
    "print(lst, '\\n', tup,'\\n',st)"
   ]
  },
  {
   "cell_type": "code",
   "execution_count": null,
   "id": "3afc07ee-52c6-4937-aa13-50fbb53dd25a",
   "metadata": {},
   "outputs": [
    {
     "name": "stdout",
     "output_type": "stream",
     "text": [
      "{0: 0, 1: 1, 2: 4, 3: 9, 4: 16}\n"
     ]
    }
   ],
   "source": [
    "dic = dict((x, x**2) for x in range(5))\n",
    "print(dic)"
   ]
  },
  {
   "cell_type": "markdown",
   "id": "15923297-96fa-4302-9b36-7c81b8b96e17",
   "metadata": {},
   "source": [
    "### 4.3 String Functions\n",
    "\n",
    "These accept iterables of strings:\n",
    "\n",
    "| Function            | Description                      |\n",
    "|---------------------|----------------------------------|\n",
    "| `''.join()`         | Joins characters or strings      |\n",
    "| `'sep'.join()`      | Joins strings with a separator   |\n",
    "\n",
    "##### Example"
   ]
  },
  {
   "cell_type": "code",
   "execution_count": null,
   "id": "78371500-2122-4a86-85c0-b6b726b0e3d0",
   "metadata": {},
   "outputs": [
    {
     "name": "stdout",
     "output_type": "stream",
     "text": [
      "Hello\n"
     ]
    }
   ],
   "source": [
    "result = ''.join(c for c in \"Hello123\" if c.isalpha())\n",
    "print(result)"
   ]
  },
  {
   "cell_type": "markdown",
   "id": "b9a8a59d-691d-4ad6-a20c-fc6977074b53",
   "metadata": {},
   "source": [
    "### 4.4 Built-in Functions That Consume Iterables\n",
    "\n",
    "The following built-in functions work perfectly with **generator expressions** because they accept any iterable as input.\n",
    "\n",
    "| Function      | Description                                      |\n",
    "|---------------|--------------------------------------------------|\n",
    "| `sorted()`    | Returns a sorted list                            |\n",
    "| `reversed()`  | Returns a reversed <b>iterator</b>                      |\n",
    "| `enumerate()` | Adds an index count to each item                 |\n",
    "| `zip()`       | Combines multiple iterables into tuples          |\n",
    "| `map()`       | Applies a function to each item in an iterable   |\n",
    "| `filter()`    | Filters items (often replaced by a generator expression) |\n",
    "\n",
    "\n",
    "##### Example"
   ]
  },
  {
   "cell_type": "code",
   "execution_count": null,
   "id": "bd828ff6-70b7-4a0e-b6e5-662aa5e6c81f",
   "metadata": {},
   "outputs": [
    {
     "name": "stdout",
     "output_type": "stream",
     "text": [
      "[1, 4, 9]\n"
     ]
    }
   ],
   "source": [
    "print(sorted(x**2 for x in [3, 1, 2]))"
   ]
  },
  {
   "cell_type": "code",
   "execution_count": null,
   "id": "7e2f6bf9-7a2e-4f84-a18b-5012cae100c3",
   "metadata": {},
   "outputs": [
    {
     "ename": "TypeError",
     "evalue": "'generator' object is not reversible",
     "output_type": "error",
     "traceback": [
      "\u001b[1;31m---------------------------------------------------------------------------\u001b[0m",
      "\u001b[1;31mTypeError\u001b[0m                                 Traceback (most recent call last)",
      "Cell \u001b[1;32mIn[22], line 1\u001b[0m\n\u001b[1;32m----> 1\u001b[0m \u001b[38;5;28mprint\u001b[39m(\u001b[38;5;28mreversed\u001b[39m(x\u001b[38;5;241m*\u001b[39m\u001b[38;5;241m*\u001b[39m\u001b[38;5;241m2\u001b[39m \u001b[38;5;28;01mfor\u001b[39;00m x \u001b[38;5;129;01min\u001b[39;00m [\u001b[38;5;241m3\u001b[39m, \u001b[38;5;241m1\u001b[39m, \u001b[38;5;241m2\u001b[39m]))\n",
      "\u001b[1;31mTypeError\u001b[0m: 'generator' object is not reversible"
     ]
    }
   ],
   "source": [
    "print(reversed(x**2 for x in [3, 1, 2]))"
   ]
  },
  {
   "cell_type": "code",
   "execution_count": null,
   "id": "a22a435c-0cb6-48d0-bb67-ac4ce32ab094",
   "metadata": {},
   "outputs": [
    {
     "name": "stdout",
     "output_type": "stream",
     "text": [
      "<list_reverseiterator object at 0x00000205BA4E3250>\n",
      "[4, 1, 9]\n"
     ]
    }
   ],
   "source": [
    "print(reversed(list(x**2 for x in [3, 1, 2])))\n",
    "print(list(reversed(list(x**2 for x in [3, 1, 2]))))"
   ]
  },
  {
   "cell_type": "markdown",
   "id": "105ab135-42e0-4556-b6d6-2052369157ce",
   "metadata": {},
   "source": [
    "### 4.5 Looping with Generator Expressions\n",
    "\n",
    "Generator expressions can be used directly in a `for` loop, allowing you to iterate over items one at a time without creating intermediate lists in memory.\n",
    "##### Example"
   ]
  },
  {
   "cell_type": "code",
   "execution_count": null,
   "id": "0fbdc1a8-c16c-4785-8e12-c5b8dc888815",
   "metadata": {},
   "outputs": [
    {
     "name": "stdout",
     "output_type": "stream",
     "text": [
      "0\n",
      "1\n",
      "4\n",
      "9\n",
      "16\n"
     ]
    }
   ],
   "source": [
    "for n in (x**2 for x in range(5)):\n",
    "    print(n)"
   ]
  },
  {
   "cell_type": "markdown",
   "id": "800a72a5-4ab7-457a-bb6a-9e51e588759b",
   "metadata": {},
   "source": [
    "### 4.6 ✅ Bonus: Functions That Accept Iterables in Libraries\n",
    "* itertools functions (e.g. chain, islice)\n",
    "* statistics.mean (accepts iterables)\n",
    "* NumPy functions (often accept generators, though less efficiently than arrays)"
   ]
  },
  {
   "cell_type": "markdown",
   "id": "37d09430-fe52-489e-a503-4f436bda60cd",
   "metadata": {},
   "source": [
    "## 5. ❌ Functions That Do NOT Support Generators Directly\n",
    "* Functions that expect sequences with known length and indexing, like:\n",
    "    * string slicing (you can’t slice a generator directly)\n",
    "    * methods like .count() on strings/lists\n",
    "* Operations that require random access (e.g. mygen[3] is invalid)\n",
    "\n",
    "#### Rule of Thumb:\n",
    "    Any function that accepts an iterable can accept a generator expression."
   ]
  },
  {
   "cell_type": "markdown",
   "id": "14bc1ef2-024c-4f05-96ff-09d386326694",
   "metadata": {},
   "source": [
    "## 6. ✅ Nesting Generators\n",
    "Nested expressions work fine too:"
   ]
  },
  {
   "cell_type": "code",
   "execution_count": null,
   "id": "8be2476c-86d0-4db1-8874-9242afc9b3c9",
   "metadata": {},
   "outputs": [
    {
     "name": "stdout",
     "output_type": "stream",
     "text": [
      "[(0, 0), (0, 1), (0, 2), (1, 0), (1, 1), (1, 2)]\n"
     ]
    }
   ],
   "source": [
    "gen = ((i, j) for i in range(2) for j in range(3))\n",
    "print(list(gen))"
   ]
  },
  {
   "cell_type": "markdown",
   "id": "eaaaf680-d053-4d13-bcca-19d2f1a6e4ab",
   "metadata": {},
   "source": [
    "## 7. ⚠️ Common Mistake\n",
    "If you try:"
   ]
  },
  {
   "cell_type": "code",
   "execution_count": null,
   "id": "e5231140-dae8-4c28-8f46-493e2c606755",
   "metadata": {
    "scrolled": true
   },
   "outputs": [
    {
     "ename": "TypeError",
     "evalue": "'generator' object is not subscriptable",
     "output_type": "error",
     "traceback": [
      "\u001b[1;31m---------------------------------------------------------------------------\u001b[0m",
      "\u001b[1;31mTypeError\u001b[0m                                 Traceback (most recent call last)",
      "Cell \u001b[1;32mIn[59], line 2\u001b[0m\n\u001b[0;32m      1\u001b[0m gen \u001b[38;5;241m=\u001b[39m (x \u001b[38;5;241m*\u001b[39m x \u001b[38;5;28;01mfor\u001b[39;00m x \u001b[38;5;129;01min\u001b[39;00m \u001b[38;5;28mrange\u001b[39m(\u001b[38;5;241m5\u001b[39m))\n\u001b[1;32m----> 2\u001b[0m \u001b[38;5;28mprint\u001b[39m(gen[\u001b[38;5;241m0\u001b[39m])\n",
      "\u001b[1;31mTypeError\u001b[0m: 'generator' object is not subscriptable"
     ]
    }
   ],
   "source": [
    "gen = (x * x for x in range(5))\n",
    "print(gen[0])"
   ]
  },
  {
   "cell_type": "markdown",
   "id": "6a81c20f-2f17-4bc7-a541-8fc0bec1ecb4",
   "metadata": {},
   "source": [
    "Because generators cannot be indexed. You have to iterate:"
   ]
  },
  {
   "cell_type": "code",
   "execution_count": null,
   "id": "30475d23-4572-4e79-9297-36d691c25aac",
   "metadata": {},
   "outputs": [
    {
     "name": "stdout",
     "output_type": "stream",
     "text": [
      "0\n",
      "1\n",
      "4\n",
      "9\n",
      "16\n"
     ]
    }
   ],
   "source": [
    "for val in gen:\n",
    "    print(val)"
   ]
  },
  {
   "cell_type": "markdown",
   "id": "74633144-316e-4770-8b7f-7eed9690bd52",
   "metadata": {},
   "source": [
    "<h2>8. Practice Problem</h2>"
   ]
  },
  {
   "cell_type": "markdown",
   "id": "d121f3da-4211-4f49-b3bc-a062c676311f",
   "metadata": {},
   "source": [
    "<h5>1. Sum of Squares</h5>\n",
    "nums = [1, 2, 3, 4, 5]\n",
    "Compute the sum of squares of all numbers.<br>\n",
    "You want each number squared:\n",
    "<ul>\n",
    "    <li>1² = 1</li>\n",
    "    <li>2² = 4</li>\n",
    "    <li>3² = 9</li>\n",
    "    <li>etc.</li>\n",
    "</ul>\n",
    "Then add them all up → 1 + 4 + 9 + 16 + 25 = 55"
   ]
  },
  {
   "cell_type": "code",
   "execution_count": null,
   "id": "a453cbf4-01f4-44a9-9ce6-08c6f375591d",
   "metadata": {},
   "outputs": [
    {
     "name": "stdout",
     "output_type": "stream",
     "text": [
      "55\n"
     ]
    }
   ],
   "source": [
    "nums = [1,2,3,4,5]\n",
    "\n",
    "total = sum(pow(x,2) for x in nums)\n",
    "print(total)"
   ]
  },
  {
   "cell_type": "markdown",
   "id": "62407c42-4a10-4b98-85e1-61ed71f65812",
   "metadata": {},
   "source": [
    "2. Count Even Numbers<br>\n",
    "    nums = [10, 15, 20, 25, 30]<br>\n",
    "    Count how many numbers are even.\n",
    "\n",
    "We only want numbers divisible by 2:<br>\n",
    "\n",
    "10, 20, 30 → even<br>"
   ]
  },
  {
   "cell_type": "code",
   "execution_count": null,
   "id": "ffd47b23-e5a8-4d54-abc0-c3cd0adfd9e1",
   "metadata": {},
   "outputs": [
    {
     "name": "stdout",
     "output_type": "stream",
     "text": [
      "3\n"
     ]
    }
   ],
   "source": [
    "nums = [10, 15, 20, 25, 30]\n",
    "print(sum(1 for i in nums if i%2 == 0))"
   ]
  },
  {
   "cell_type": "markdown",
   "id": "ef01faf9-6eee-4ac6-bd2e-85931e9bdf25",
   "metadata": {},
   "source": [
    "3. Total Length of Words<br>\n",
    "words = ['hello', 'world', 'python', 'rocks']<br>\n",
    "Compute the total number of characters in all words.\n",
    "\n",
    "“hello” → 5 letters\n",
    "\n",
    "“world” → 5 letters\n",
    "\n",
    "etc."
   ]
  },
  {
   "cell_type": "code",
   "execution_count": null,
   "id": "60944e82-a2a9-4490-b2d1-74c87fc45f39",
   "metadata": {},
   "outputs": [
    {
     "data": {
      "text/plain": [
       "21"
      ]
     },
     "execution_count": 18,
     "metadata": {},
     "output_type": "execute_result"
    }
   ],
   "source": [
    "words = ['hello', 'world', 'python', 'rocks']\n",
    "sum(len(word) for word in words)"
   ]
  },
  {
   "cell_type": "markdown",
   "id": "9a4f4497-c905-433b-a475-6fe3554f3e33",
   "metadata": {},
   "source": [
    "4. Sum of Positive Numbers<br>\n",
    "numbers = [-5, 2, -1, 7, 0, -3, 8]<br>\n",
    "Sum only the positive numbers.\n",
    "\n",
    "Ignore negative numbers and zero.\n",
    "\n",
    "Include only values > 0:"
   ]
  },
  {
   "cell_type": "code",
   "execution_count": 40,
   "id": "42f2428d-2926-4048-ae8a-1617c375aed9",
   "metadata": {},
   "outputs": [
    {
     "name": "stdout",
     "output_type": "stream",
     "text": [
      "17\n"
     ]
    }
   ],
   "source": [
    "numbers = [-5, 2, -1, 7, 0, -3, 8]\n",
    "print(sum(i for i in numbers if i > 0))"
   ]
  },
  {
   "cell_type": "code",
   "execution_count": null,
   "id": "18482b1c",
   "metadata": {},
   "outputs": [],
   "source": []
  }
 ],
 "metadata": {
  "kernelspec": {
   "display_name": "base",
   "language": "python",
   "name": "python3"
  },
  "language_info": {
   "codemirror_mode": {
    "name": "ipython",
    "version": 3
   },
   "file_extension": ".py",
   "mimetype": "text/x-python",
   "name": "python",
   "nbconvert_exporter": "python",
   "pygments_lexer": "ipython3",
   "version": "3.13.5"
  }
 },
 "nbformat": 4,
 "nbformat_minor": 5
}
